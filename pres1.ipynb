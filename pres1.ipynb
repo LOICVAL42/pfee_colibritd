{
 "cells": [
  {
   "cell_type": "code",
   "execution_count": 1,
   "metadata": {},
   "outputs": [],
   "source": [
    "from src.optimisers.hadamard_gate_reduction import Hadamard_gate_reduction\n",
    "from src.optimisers.single_qubit_gate_cancellation import Single_qubit_gate_cancellation\n",
    "from src.converters.netlist_converters import qCircuit_to_netlist, netlist_to_qCircuit\n",
    "from src.converters.graph_converter import create_graph_from_netlist, create_netlist_from_graph\n",
    "from src.utils.graphs import plot_graph\n",
    "from mpqp import QCircuit\n",
    "from mpqp.gates import X, CNOT, Z, H"
   ]
  },
  {
   "cell_type": "code",
   "execution_count": 2,
   "metadata": {},
   "outputs": [],
   "source": [
    "h_optimiser = Hadamard_gate_reduction()\n",
    "sgq_optimiser = Single_qubit_gate_cancellation()"
   ]
  },
  {
   "cell_type": "code",
   "execution_count": 3,
   "metadata": {},
   "outputs": [],
   "source": [
    "def optimise_circuit(circ: QCircuit, print_graphs = False):\n",
    "    print(\"Circuit:\")\n",
    "    print(circ)\n",
    "    netlist = qCircuit_to_netlist(circ)\n",
    "    graph = create_graph_from_netlist(netlist)\n",
    "    if print_graphs:\n",
    "        print(\"First graph\")\n",
    "        plot_graph(graph, node_size=1000)\n",
    "    h_optimiser.optimise(graph)\n",
    "    sgq_optimiser.optimise(graph)\n",
    "    if print_graphs:\n",
    "        print(\"Optimised graph\")\n",
    "        plot_graph(graph, node_size=1000)\n",
    "    opt_circ = netlist_to_qCircuit(create_netlist_from_graph(graph))\n",
    "    print(\"Optimised circuit\")\n",
    "    print(opt_circ)\n"
   ]
  },
  {
   "cell_type": "code",
   "execution_count": 4,
   "metadata": {},
   "outputs": [],
   "source": [
    "p_graphs = False"
   ]
  },
  {
   "cell_type": "markdown",
   "metadata": {},
   "source": [
    "# Circuit 1"
   ]
  },
  {
   "cell_type": "code",
   "execution_count": 5,
   "metadata": {},
   "outputs": [
    {
     "name": "stdout",
     "output_type": "stream",
     "text": [
      "Circuit:\n",
      "   ┌───┐┌───┐┌───┐\n",
      "q: ┤ H ├┤ X ├┤ H ├\n",
      "   └───┘└───┘└───┘\n",
      "Optimised circuit\n",
      "   ┌───┐┌───┐┌───┐\n",
      "q: ┤ X ├┤ H ├┤ X ├\n",
      "   └───┘└───┘└───┘\n"
     ]
    }
   ],
   "source": [
    "circ = QCircuit(1)\n",
    "circ.add(H(0))\n",
    "circ.add(X(0))\n",
    "circ.add(H(0))\n",
    "\n",
    "optimise_circuit(circ, p_graphs)"
   ]
  },
  {
   "cell_type": "markdown",
   "metadata": {},
   "source": [
    "# Circuit 2"
   ]
  },
  {
   "cell_type": "code",
   "execution_count": 6,
   "metadata": {},
   "outputs": [
    {
     "name": "stdout",
     "output_type": "stream",
     "text": [
      "Circuit:\n",
      "     ┌───┐     ┌───┐\n",
      "q_0: ┤ H ├──■──┤ H ├\n",
      "     ├───┤┌─┴─┐├───┤\n",
      "q_1: ┤ H ├┤ X ├┤ H ├\n",
      "     └───┘└───┘└───┘\n",
      "Optimised circuit\n",
      "     ┌───┐\n",
      "q_0: ┤ X ├\n",
      "     └─┬─┘\n",
      "q_1: ──■──\n",
      "          \n"
     ]
    }
   ],
   "source": [
    "circ = QCircuit(2)\n",
    "circ.add(H(0))\n",
    "circ.add(H(1))\n",
    "circ.add(CNOT(0, 1))\n",
    "circ.add(H(1))\n",
    "circ.add(H(0))\n",
    "\n",
    "optimise_circuit(circ, p_graphs)"
   ]
  },
  {
   "cell_type": "markdown",
   "metadata": {},
   "source": [
    "# Circuit 3"
   ]
  },
  {
   "cell_type": "code",
   "execution_count": 7,
   "metadata": {},
   "outputs": [
    {
     "name": "stdout",
     "output_type": "stream",
     "text": [
      "Circuit:\n",
      "                              \n",
      "q_0: ────────────■────────────\n",
      "     ┌───┐┌───┐┌─┴─┐┌───┐┌───┐\n",
      "q_1: ┤ H ├┤ X ├┤ X ├┤ X ├┤ H ├\n",
      "     └───┘└───┘└───┘└───┘└───┘\n",
      "Optimised circuit\n",
      "                    \n",
      "q_0: ───────■───────\n",
      "     ┌───┐┌─┴─┐┌───┐\n",
      "q_1: ┤ X ├┤ X ├┤ X ├\n",
      "     └───┘└───┘└───┘\n"
     ]
    }
   ],
   "source": [
    "circ = QCircuit(2)\n",
    "circ.add(H(1))\n",
    "circ.add(X(1))\n",
    "circ.add(CNOT(0, 1))\n",
    "circ.add(X(1))\n",
    "circ.add(H(1))\n",
    "\n",
    "optimise_circuit(circ, p_graphs)"
   ]
  },
  {
   "cell_type": "markdown",
   "metadata": {},
   "source": [
    "# Circuit 4"
   ]
  },
  {
   "cell_type": "code",
   "execution_count": 8,
   "metadata": {},
   "outputs": [
    {
     "name": "stdout",
     "output_type": "stream",
     "text": [
      "Circuit:\n",
      "                                        \n",
      "q_0: ─────────────────■─────────────────\n",
      "     ┌───┐┌───┐┌───┐┌─┴─┐┌───┐┌───┐┌───┐\n",
      "q_1: ┤ X ├┤ H ├┤ X ├┤ X ├┤ X ├┤ H ├┤ X ├\n",
      "     └───┘└───┘└───┘└───┘└───┘└───┘└───┘\n",
      "Optimised circuit\n",
      "          \n",
      "q_0: ──■──\n",
      "     ┌─┴─┐\n",
      "q_1: ┤ X ├\n",
      "     └───┘\n"
     ]
    }
   ],
   "source": [
    "circ = QCircuit(2)\n",
    "circ.add(X(1))\n",
    "circ.add(H(1))\n",
    "circ.add(X(1))\n",
    "circ.add(CNOT(0, 1))\n",
    "circ.add(X(1))\n",
    "circ.add(H(1))\n",
    "circ.add(X(1))\n",
    "\n",
    "optimise_circuit(circ, p_graphs)"
   ]
  },
  {
   "cell_type": "markdown",
   "metadata": {},
   "source": [
    "# Circuit 5"
   ]
  },
  {
   "cell_type": "code",
   "execution_count": 13,
   "metadata": {},
   "outputs": [
    {
     "name": "stdout",
     "output_type": "stream",
     "text": [
      "Circuit:\n",
      "     ┌───┐┌───┐┌───┐┌───┐┌───┐┌───┐                    \n",
      "q_0: ┤ X ├┤ H ├┤ X ├┤ H ├┤ X ├┤ H ├──■─────────────────\n",
      "     ├───┤├───┤├───┤└───┘└───┘└───┘┌─┴─┐┌───┐┌───┐┌───┐\n",
      "q_1: ┤ X ├┤ H ├┤ X ├───────────────┤ X ├┤ X ├┤ H ├┤ X ├\n",
      "     └───┘└───┘└───┘               └───┘└───┘└───┘└───┘\n",
      "Optimised circuit\n",
      "          \n",
      "q_0: ──■──\n",
      "     ┌─┴─┐\n",
      "q_1: ┤ X ├\n",
      "     └───┘\n"
     ]
    }
   ],
   "source": [
    "circ = QCircuit(2)\n",
    "circ.add(X(0))\n",
    "circ.add(H(0))\n",
    "circ.add(X(0))\n",
    "circ.add(H(0))\n",
    "circ.add(X(0))\n",
    "circ.add(H(0))\n",
    "\n",
    "circ.add(X(1))\n",
    "circ.add(H(1))\n",
    "circ.add(X(1))\n",
    "circ.add(CNOT(0, 1))\n",
    "circ.add(X(1))\n",
    "circ.add(H(1))\n",
    "circ.add(X(1))\n",
    "\n",
    "optimise_circuit(circ, p_graphs)"
   ]
  }
 ],
 "metadata": {
  "kernelspec": {
   "display_name": ".venv",
   "language": "python",
   "name": "python3"
  },
  "language_info": {
   "codemirror_mode": {
    "name": "ipython",
    "version": 3
   },
   "file_extension": ".py",
   "mimetype": "text/x-python",
   "name": "python",
   "nbconvert_exporter": "python",
   "pygments_lexer": "ipython3",
   "version": "3.10.14"
  }
 },
 "nbformat": 4,
 "nbformat_minor": 2
}
