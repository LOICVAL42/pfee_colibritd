{
 "cells": [
  {
   "cell_type": "code",
   "execution_count": 3,
   "metadata": {},
   "outputs": [],
   "source": [
    "from src.optimisers.phase_polynomial_optimizer import optimize_phase_polynomial\n",
    "\n",
    "from src.converters.netlist_converters import qCircuit_to_netlist, netlist_to_qCircuit\n",
    "from src.converters.graph_converter import create_graph_from_netlist, create_netlist_from_graph\n",
    "from src.converters.phase_polynomial_converter import create_phase_polynomial_from_netlist, create_netlist_from_phase_polynomial\n",
    "\n",
    "from src.utils.graphs import plot_graph\n",
    "from mpqp import QCircuit\n",
    "from mpqp.gates import X, CNOT, Z, H , Rz, S"
   ]
  },
  {
   "cell_type": "code",
   "execution_count": 8,
   "metadata": {},
   "outputs": [
    {
     "name": "stdout",
     "output_type": "stream",
     "text": [
      "   ┌────┐\n",
      "q: ┤ S† ├\n",
      "   └────┘\n"
     ]
    }
   ],
   "source": [
    "def Sdg(qubit):\n",
    "    sdg = S(qubit).inverse()\n",
    "    sdg.label = \"S†\"\n",
    "    return sdg\n",
    "circ = QCircuit(1)\n",
    "circ.add(Sdg(0))\n",
    "print(circ)"
   ]
  },
  {
   "cell_type": "markdown",
   "metadata": {},
   "source": [
    "# Circuit 1"
   ]
  },
  {
   "cell_type": "code",
   "execution_count": 2,
   "metadata": {},
   "outputs": [
    {
     "name": "stdout",
     "output_type": "stream",
     "text": [
      "                                     ┌───┐                     ┌───────┐┌───┐\n",
      "q_0: ────────────────────■───────────┤ X ├──■───────────────■──┤ Rz(3) ├┤ X ├\n",
      "     ┌───────┐┌───────┐┌─┴─┐┌───────┐└─┬─┘┌─┴─┐┌─────────┐┌─┴─┐├───────┤└─┬─┘\n",
      "q_1: ┤ Rz(1) ├┤ Rz(1) ├┤ X ├┤ Rz(2) ├──■──┤ X ├┤ Rz(2.5) ├┤ X ├┤ Rz(4) ├──■──\n",
      "     └───────┘└───────┘└───┘└───────┘     └───┘└─────────┘└───┘└───────┘     \n"
     ]
    }
   ],
   "source": [
    "circ = QCircuit(2)\n",
    "    \n",
    "circ.add(Rz(1, 1))\n",
    "circ.add(Rz(1, 1))\n",
    "circ.add(CNOT(0, 1))\n",
    "circ.add(Rz(2, 1))\n",
    "circ.add(CNOT(1, 0))\n",
    "circ.add(CNOT(0, 1)) \n",
    "circ.add(Rz(2.5, 1))\n",
    "circ.add(CNOT(0, 1))\n",
    "circ.add(Rz(3, 0))\n",
    "circ.add(Rz(4, 1))\n",
    "circ.add(CNOT(1, 0))\n",
    "\n",
    "print(circ)"
   ]
  },
  {
   "cell_type": "code",
   "execution_count": 7,
   "metadata": {},
   "outputs": [
    {
     "name": "stdout",
     "output_type": "stream",
     "text": [
      "[S†([0])]\n",
      "\n"
     ]
    }
   ],
   "source": [
    "netlist = qCircuit_to_netlist(circ)\n",
    "print(netlist)\n",
    "phase_poly = create_phase_polynomial_from_netlist(netlist)\n",
    "\n",
    "\n",
    "phase_poly = optimize_phase_polynomial(phase_poly)\n",
    "\n",
    "netlist = create_netlist_from_phase_polynomial(phase_poly)\n",
    "circ = netlist_to_qCircuit(netlist)\n",
    "print(circ)"
   ]
  },
  {
   "cell_type": "markdown",
   "metadata": {},
   "source": [
    "# Circuit 2"
   ]
  },
  {
   "cell_type": "code",
   "execution_count": 5,
   "metadata": {},
   "outputs": [
    {
     "name": "stdout",
     "output_type": "stream",
     "text": [
      "                                ┌───┐┌─────────┐                ┌───┐»\n",
      "q_0: ─────────────■─────────────┤ X ├┤ Rz(0.8) ├──■─────────────┤ X ├»\n",
      "     ┌─────────┐┌─┴─┐┌─────────┐└─┬─┘└─────────┘┌─┴─┐┌─────────┐└─┬─┘»\n",
      "q_1: ┤ Rz(0.5) ├┤ X ├┤ Rz(1.2) ├──■─────────────┤ X ├┤ Rz(2.3) ├──■──»\n",
      "     └─────────┘└───┘└─────────┘                └───┘└─────────┘     »\n",
      "«                                ┌───┐                     \n",
      "«q_0: ─────────────■─────────────┤ X ├──■────■─────────────\n",
      "«     ┌─────────┐┌─┴─┐┌─────────┐└─┬─┘┌─┴─┐┌─┴─┐┌─────────┐\n",
      "«q_1: ┤ Rz(1.1) ├┤ X ├┤ Rz(3.4) ├──■──┤ X ├┤ X ├┤ Rz(0.9) ├\n",
      "«     └─────────┘└───┘└─────────┘     └───┘└───┘└─────────┘\n"
     ]
    }
   ],
   "source": [
    "circ = QCircuit(2)\n",
    "\n",
    "# Define a complex circuit with Rz and CNOT gates\n",
    "circ = QCircuit(2)\n",
    "\n",
    "# Define a complex circuit with Rz and CNOT gates\n",
    "circ.add(Rz(0.5, 1))\n",
    "circ.add(CNOT(0, 1))\n",
    "circ.add(Rz(1.2, 1))\n",
    "circ.add(CNOT(1, 0))\n",
    "circ.add(Rz(0.8, 0))\n",
    "circ.add(CNOT(0, 1))\n",
    "circ.add(Rz(2.3, 1))\n",
    "circ.add(CNOT(1, 0))\n",
    "circ.add(Rz(1.1, 1))\n",
    "circ.add(CNOT(0, 1))\n",
    "circ.add(Rz(3.4, 1))\n",
    "circ.add(CNOT(1, 0))\n",
    "circ.add(CNOT(0, 1))  # Pair of CNOTs with the same control and target, which should cancel out\n",
    "circ.add(CNOT(0, 1))  # Another redundant pair\n",
    "circ.add(Rz(0.9, 1))\n",
    "\n",
    "print(circ)\n"
   ]
  },
  {
   "cell_type": "code",
   "execution_count": 6,
   "metadata": {},
   "outputs": [
    {
     "name": "stdout",
     "output_type": "stream",
     "text": [
      "[Rz([1]), CNOT(·[0], [1]), Rz([1]), CNOT(·[1], [0]), Rz([0]), CNOT(·[0], [1]), Rz([1]), CNOT(·[1], [0]), Rz([1]), CNOT(·[0], [1]), Rz([1]), CNOT(·[1], [0]), CNOT(·[0], [1]), CNOT(·[0], [1]), Rz([1])]\n",
      "                                ┌───┐┌─────────┐                ┌───┐     ┌───┐»\n",
      "q_0: ─────────────■─────────────┤ X ├┤ Rz(0.8) ├──■─────────────┤ X ├──■──┤ X ├»\n",
      "     ┌─────────┐┌─┴─┐┌─────────┐└─┬─┘└─────────┘┌─┴─┐┌─────────┐└─┬─┘┌─┴─┐└─┬─┘»\n",
      "q_1: ┤ Rz(0.5) ├┤ X ├┤ Rz(1.2) ├──■─────────────┤ X ├┤ Rz(3.4) ├──■──┤ X ├──■──»\n",
      "     └─────────┘└───┘└─────────┘                └───┘└─────────┘     └───┘     »\n",
      "«                \n",
      "«q_0: ───────────\n",
      "«     ┌─────────┐\n",
      "«q_1: ┤ Rz(4.3) ├\n",
      "«     └─────────┘\n"
     ]
    }
   ],
   "source": [
    "netlist = qCircuit_to_netlist(circ)\n",
    "\n",
    "phase_poly = create_phase_polynomial_from_netlist(netlist)\n",
    "phase_poly = optimize_phase_polynomial(phase_poly)\n",
    "netlist = create_netlist_from_phase_polynomial(phase_poly)\n",
    "circ = netlist_to_qCircuit(netlist)\n",
    "print(circ)"
   ]
  },
  {
   "cell_type": "markdown",
   "metadata": {},
   "source": [
    "# Circuit 3"
   ]
  },
  {
   "cell_type": "code",
   "execution_count": 8,
   "metadata": {},
   "outputs": [
    {
     "name": "stdout",
     "output_type": "stream",
     "text": [
      "                        ┌───┐┌───────┐                     ┌───────┐┌───┐\n",
      "q_0: ───────────■────■──┤ X ├┤ Rz(1) ├──■───────────────■──┤ Rz(3) ├┤ X ├\n",
      "     ┌───────┐┌─┴─┐  │  └─┬─┘├───────┤┌─┴─┐┌─────────┐┌─┴─┐├───────┤└─┬─┘\n",
      "q_1: ┤ Rz(1) ├┤ X ├──┼────■──┤ Rz(2) ├┤ X ├┤ Rz(2.5) ├┤ X ├┤ Rz(4) ├──■──\n",
      "     └───────┘└───┘┌─┴─┐     └───────┘└───┘└─────────┘└───┘└───────┘     \n",
      "q_2: ──────────────┤ X ├─────────────────────────────────────────────────\n",
      "                   └───┘                                                 \n"
     ]
    }
   ],
   "source": [
    "circ = QCircuit(3)\n",
    "    \n",
    "circ.add(Rz(1, 1))\n",
    "circ.add(CNOT(0, 1))\n",
    "circ.add(CNOT(0, 2))\n",
    "circ.add(CNOT(1, 0))\n",
    "circ.add(Rz(1, 0))\n",
    "circ.add(Rz(2, 1))\n",
    "circ.add(CNOT(0, 1)) \n",
    "circ.add(Rz(2.5, 1))\n",
    "circ.add(CNOT(0, 1))\n",
    "circ.add(Rz(3, 0))\n",
    "circ.add(Rz(4, 1))\n",
    "circ.add(CNOT(1, 0))\n",
    "\n",
    "print(circ)"
   ]
  },
  {
   "cell_type": "code",
   "execution_count": 9,
   "metadata": {},
   "outputs": [
    {
     "name": "stdout",
     "output_type": "stream",
     "text": [
      "[Rz([1]), CNOT(·[0], [1]), CNOT(·[0], [2]), CNOT(·[1], [0]), Rz([0]), Rz([1]), CNOT(·[0], [1]), Rz([1]), CNOT(·[0], [1]), Rz([0]), Rz([1]), CNOT(·[1], [0])]\n",
      "                        ┌───┐┌───────┐                              ┌───┐\n",
      "q_0: ───────────■────■──┤ X ├┤ Rz(4) ├──■───────────────■───────────┤ X ├\n",
      "     ┌───────┐┌─┴─┐  │  └─┬─┘└───────┘┌─┴─┐┌─────────┐┌─┴─┐┌───────┐└─┬─┘\n",
      "q_1: ┤ Rz(1) ├┤ X ├──┼────■───────────┤ X ├┤ Rz(2.5) ├┤ X ├┤ Rz(6) ├──■──\n",
      "     └───────┘└───┘┌─┴─┐              └───┘└─────────┘└───┘└───────┘     \n",
      "q_2: ──────────────┤ X ├─────────────────────────────────────────────────\n",
      "                   └───┘                                                 \n"
     ]
    }
   ],
   "source": [
    "netlist = qCircuit_to_netlist(circ)\n",
    "print(netlist)\n",
    "phase_poly = create_phase_polynomial_from_netlist(netlist)\n",
    "\n",
    "\n",
    "phase_poly = optimize_phase_polynomial(phase_poly)\n",
    "\n",
    "netlist = create_netlist_from_phase_polynomial(phase_poly)\n",
    "circ = netlist_to_qCircuit(netlist)\n",
    "print(circ)"
   ]
  },
  {
   "cell_type": "markdown",
   "metadata": {},
   "source": [
    "# Circuit 4"
   ]
  },
  {
   "cell_type": "code",
   "execution_count": 11,
   "metadata": {},
   "outputs": [
    {
     "name": "stdout",
     "output_type": "stream",
     "text": [
      "                                       \n",
      "q_0: ───────────■─────────■────────────\n",
      "     ┌───────┐┌─┴─┐┌───┐┌─┴─┐┌────────┐\n",
      "q_1: ┤ Rz(1) ├┤ X ├┤ S ├┤ X ├┤ Rz(-1) ├\n",
      "     └───────┘└───┘└───┘└───┘└────────┘\n"
     ]
    }
   ],
   "source": [
    "circ = QCircuit(2)\n",
    "    \n",
    "circ.add(Rz(1, 1))\n",
    "circ.add(CNOT(0, 1))\n",
    "circ.add(S(1))\n",
    "circ.add(CNOT(0, 1)) \n",
    "circ.add(Rz(-1, 1))\n",
    "\n",
    "print(circ)"
   ]
  },
  {
   "cell_type": "code",
   "execution_count": 12,
   "metadata": {},
   "outputs": [
    {
     "name": "stdout",
     "output_type": "stream",
     "text": [
      "[Rz([1]), CNOT(·[0], [1]), S([1]), CNOT(·[0], [1]), Rz([1])]\n",
      "                    \n",
      "q_0: ──■─────────■──\n",
      "     ┌─┴─┐┌───┐┌─┴─┐\n",
      "q_1: ┤ X ├┤ S ├┤ X ├\n",
      "     └───┘└───┘└───┘\n"
     ]
    }
   ],
   "source": [
    "netlist = qCircuit_to_netlist(circ)\n",
    "phase_poly = create_phase_polynomial_from_netlist(netlist)\n",
    "phase_poly = optimize_phase_polynomial(phase_poly)\n",
    "netlist = create_netlist_from_phase_polynomial(phase_poly)\n",
    "circ = netlist_to_qCircuit(netlist)\n",
    "print(circ)"
   ]
  }
 ],
 "metadata": {
  "kernelspec": {
   "display_name": ".venv",
   "language": "python",
   "name": "python3"
  },
  "language_info": {
   "codemirror_mode": {
    "name": "ipython",
    "version": 3
   },
   "file_extension": ".py",
   "mimetype": "text/x-python",
   "name": "python",
   "nbconvert_exporter": "python",
   "pygments_lexer": "ipython3",
   "version": "3.10.14"
  }
 },
 "nbformat": 4,
 "nbformat_minor": 2
}
