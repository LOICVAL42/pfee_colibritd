{
 "cells": [
  {
   "cell_type": "code",
   "execution_count": 36,
   "metadata": {},
   "outputs": [],
   "source": [
    "from src.optimisers.hadamard_gate_reduction import Hadamard_gate_reduction\n",
    "from src.optimisers.single_qubit_gate_cancellation import Single_qubit_gate_cancellation\n",
    "from src.optimisers.phase_polynomial_optimizer import pretreatment_phase_polynomial\n",
    "\n",
    "from src.converters.netlist_converters import qCircuit_to_netlist, netlist_to_qCircuit\n",
    "from src.converters.graph_converter import create_graph_from_netlist, create_netlist_from_graph\n",
    "from src.converters.phase_polynomial_converter import create_phase_polynomial_from_netlist, create_netlist_from_phase_polynomial\n",
    "\n",
    "from src.utils.graphs import plot_graph\n",
    "from mpqp import QCircuit\n",
    "from mpqp.gates import X, CNOT, Z, H , Rz"
   ]
  },
  {
   "cell_type": "code",
   "execution_count": 37,
   "metadata": {},
   "outputs": [
    {
     "name": "stdout",
     "output_type": "stream",
     "text": [
      "                                     ┌───┐                     ┌───────┐┌───┐\n",
      "q_0: ────────────────────■───────────┤ X ├──■───────────────■──┤ Rz(3) ├┤ X ├\n",
      "     ┌───────┐┌───────┐┌─┴─┐┌───────┐└─┬─┘┌─┴─┐┌─────────┐┌─┴─┐├───────┤└─┬─┘\n",
      "q_1: ┤ Rz(1) ├┤ Rz(1) ├┤ X ├┤ Rz(2) ├──■──┤ X ├┤ Rz(2.5) ├┤ X ├┤ Rz(4) ├──■──\n",
      "     └───────┘└───────┘└───┘└───────┘     └───┘└─────────┘└───┘└───────┘     \n"
     ]
    }
   ],
   "source": [
    "circ = QCircuit(2)\n",
    "    \n",
    "circ.add(Rz(1, 1))\n",
    "circ.add(Rz(1, 1))\n",
    "circ.add(CNOT(0, 1))\n",
    "circ.add(Rz(2, 1))\n",
    "circ.add(CNOT(1, 0))\n",
    "circ.add(CNOT(0, 1)) \n",
    "circ.add(Rz(2.5, 1))\n",
    "circ.add(CNOT(0, 1))\n",
    "circ.add(Rz(3, 0))\n",
    "circ.add(Rz(4, 1))\n",
    "circ.add(CNOT(1, 0))\n",
    "\n",
    "print(circ)"
   ]
  },
  {
   "cell_type": "code",
   "execution_count": 38,
   "metadata": {},
   "outputs": [
    {
     "name": "stdout",
     "output_type": "stream",
     "text": [
      "[Rz([1]), Rz([1]), CNOT(·[0], [1]), Rz([1]), CNOT(·[1], [0]), CNOT(·[0], [1]), Rz([1]), CNOT(·[0], [1]), Rz([0]), Rz([1]), CNOT(·[1], [0])]\n",
      "                   ┌───┐                     ┌───────┐┌───┐\n",
      "q_0: ───────────■──┤ X ├──■───────────────■──┤ Rz(3) ├┤ X ├\n",
      "     ┌───────┐┌─┴─┐└─┬─┘┌─┴─┐┌─────────┐┌─┴─┐├───────┤└─┬─┘\n",
      "q_1: ┤ Rz(2) ├┤ X ├──■──┤ X ├┤ Rz(2.5) ├┤ X ├┤ Rz(6) ├──■──\n",
      "     └───────┘└───┘     └───┘└─────────┘└───┘└───────┘     \n"
     ]
    }
   ],
   "source": [
    "netlist = qCircuit_to_netlist(circ)\n",
    "print(netlist)\n",
    "phase_poly = create_phase_polynomial_from_netlist(netlist)\n",
    "\n",
    "\n",
    "phase_poly = pretreatment_phase_polynomial(phase_poly)\n",
    "\n",
    "netlist = create_netlist_from_phase_polynomial(phase_poly)\n",
    "circ = netlist_to_qCircuit(netlist)\n",
    "print(circ)"
   ]
  },
  {
   "cell_type": "code",
   "execution_count": 39,
   "metadata": {},
   "outputs": [
    {
     "name": "stdout",
     "output_type": "stream",
     "text": [
      "                                     ┌───┐                     ┌───────┐┌───┐\n",
      "q_0: ────────────────────■───────────┤ X ├──■───────────────■──┤ Rz(3) ├┤ X ├\n",
      "     ┌───────┐┌───────┐┌─┴─┐┌───────┐└─┬─┘┌─┴─┐┌─────────┐┌─┴─┐├───────┤└─┬─┘\n",
      "q_1: ┤ Rz(1) ├┤ Rz(1) ├┤ X ├┤ Rz(2) ├──■──┤ X ├┤ Rz(2.5) ├┤ X ├┤ Rz(4) ├──■──\n",
      "     └───────┘└───────┘└───┘└───────┘     └───┘└─────────┘└───┘└───────┘     \n",
      "                   ┌───┐                     ┌───────┐┌───┐\n",
      "q_0: ───────────■──┤ X ├──■───────────────■──┤ Rz(3) ├┤ X ├\n",
      "     ┌───────┐┌─┴─┐└─┬─┘┌─┴─┐┌─────────┐┌─┴─┐├───────┤└─┬─┘\n",
      "q_1: ┤ Rz(2) ├┤ X ├──■──┤ X ├┤ Rz(2.5) ├┤ X ├┤ Rz(6) ├──■──\n",
      "     └───────┘└───┘     └───┘└─────────┘└───┘└───────┘     \n",
      "The circuits are equivalent up to a global phase: True\n"
     ]
    }
   ],
   "source": [
    "from qiskit import QuantumCircuit\n",
    "from qiskit.quantum_info import Operator\n",
    "import numpy as np\n",
    "\n",
    "# Create a complex circuit with Rz and CNOT gates\n",
    "qc_complex = QuantumCircuit(2)\n",
    "qc_complex.rz(1, 1)\n",
    "qc_complex.rz(1, 1)\n",
    "\n",
    "qc_complex.cx(0, 1)\n",
    "qc_complex.rz(2, 1)\n",
    "qc_complex.cx(1, 0)\n",
    "\n",
    "qc_complex.cx(0, 1)\n",
    "\n",
    "qc_complex.rz(2.5, 1)\n",
    "qc_complex.cx(0, 1)\n",
    "\n",
    "\n",
    "qc_complex.rz(4, 1)\n",
    "qc_complex.rz(3, 0)\n",
    "qc_complex.cx(1, 0)\n",
    "\n",
    "\n",
    "qc_after = QuantumCircuit(2)\n",
    "qc_after.rz(2, 1)\n",
    "qc_after.cx(0, 1)\n",
    "qc_after.cx(1, 0)\n",
    "qc_after.cx(0, 1)\n",
    "qc_after.rz(2.5, 1)\n",
    "qc_after.cx(0, 1)\n",
    "qc_after.rz(3, 0)\n",
    "qc_after.rz(6, 1)\n",
    "qc_after.cx(1, 0)\n",
    "\n",
    "print(qc_complex)\n",
    "print(qc_after)\n",
    "\n",
    "\n",
    "def are_equivalent_up_to_phase(circuit1, circuit2, tolerance=1e-10):\n",
    "    # Calculate the unitary matrices for both circuits\n",
    "    unitary1 = Operator(circuit1).data\n",
    "    unitary2 = Operator(circuit2).data\n",
    "    \n",
    "    # Check if dimensions match\n",
    "    if unitary1.shape != unitary2.shape:\n",
    "        return False\n",
    "    \n",
    "    # Compute the relative phase between the matrices\n",
    "    product = np.dot(np.conjugate(np.transpose(unitary1)), unitary2)\n",
    "    trace = np.trace(product)\n",
    "    phase = trace / unitary1.shape[0]  # Average phase factor\n",
    "    \n",
    "    # Verify that the product of U1 and U2† is a scaled identity matrix\n",
    "    identity_check = product / phase  # Should be close to identity\n",
    "    \n",
    "    # Check if identity_check is close to an identity matrix within tolerance\n",
    "    is_identity = np.allclose(identity_check, np.eye(unitary1.shape[0]), atol=tolerance)\n",
    "    is_phase_unit = np.isclose(np.abs(phase), 1.0, atol=tolerance)\n",
    "    \n",
    "    return is_identity and is_phase_unit\n",
    "\n",
    "# Check if the circuits are equivalent up to a global phase\n",
    "equivalent = are_equivalent_up_to_phase(qc_complex, qc_after)\n",
    "print(\"The circuits are equivalent up to a global phase:\", equivalent)\n",
    "\n"
   ]
  },
  {
   "cell_type": "code",
   "execution_count": 40,
   "metadata": {},
   "outputs": [
    {
     "name": "stdout",
     "output_type": "stream",
     "text": [
      "                                ┌───┐┌─────────┐                ┌───┐»\n",
      "q_0: ─────────────■─────────────┤ X ├┤ Rz(0.8) ├──■─────────────┤ X ├»\n",
      "     ┌─────────┐┌─┴─┐┌─────────┐└─┬─┘└─────────┘┌─┴─┐┌─────────┐└─┬─┘»\n",
      "q_1: ┤ Rz(0.5) ├┤ X ├┤ Rz(1.2) ├──■─────────────┤ X ├┤ Rz(2.3) ├──■──»\n",
      "     └─────────┘└───┘└─────────┘                └───┘└─────────┘     »\n",
      "«                                ┌───┐                     \n",
      "«q_0: ─────────────■─────────────┤ X ├──■────■─────────────\n",
      "«     ┌─────────┐┌─┴─┐┌─────────┐└─┬─┘┌─┴─┐┌─┴─┐┌─────────┐\n",
      "«q_1: ┤ Rz(1.1) ├┤ X ├┤ Rz(3.4) ├──■──┤ X ├┤ X ├┤ Rz(0.9) ├\n",
      "«     └─────────┘└───┘└─────────┘     └───┘└───┘└─────────┘\n"
     ]
    }
   ],
   "source": [
    "circ = QCircuit(2)\n",
    "\n",
    "# Define a complex circuit with Rz and CNOT gates\n",
    "circ = QCircuit(2)\n",
    "\n",
    "# Define a complex circuit with Rz and CNOT gates\n",
    "circ.add(Rz(0.5, 1))\n",
    "circ.add(CNOT(0, 1))\n",
    "circ.add(Rz(1.2, 1))\n",
    "circ.add(CNOT(1, 0))\n",
    "circ.add(Rz(0.8, 0))\n",
    "circ.add(CNOT(0, 1))\n",
    "circ.add(Rz(2.3, 1))\n",
    "circ.add(CNOT(1, 0))\n",
    "circ.add(Rz(1.1, 1))\n",
    "circ.add(CNOT(0, 1))\n",
    "circ.add(Rz(3.4, 1))\n",
    "circ.add(CNOT(1, 0))\n",
    "circ.add(CNOT(0, 1))  # Pair of CNOTs with the same control and target, which should cancel out\n",
    "circ.add(CNOT(0, 1))  # Another redundant pair\n",
    "circ.add(Rz(0.9, 1))\n",
    "\n",
    "print(circ)\n"
   ]
  },
  {
   "cell_type": "code",
   "execution_count": 41,
   "metadata": {},
   "outputs": [
    {
     "name": "stdout",
     "output_type": "stream",
     "text": [
      "[Rz([1]), CNOT(·[0], [1]), Rz([1]), CNOT(·[1], [0]), Rz([0]), CNOT(·[0], [1]), Rz([1]), CNOT(·[1], [0]), Rz([1]), CNOT(·[0], [1]), Rz([1]), CNOT(·[1], [0]), CNOT(·[0], [1]), CNOT(·[0], [1]), Rz([1])]\n",
      "                                ┌───┐┌─────────┐                ┌───┐     ┌───┐»\n",
      "q_0: ─────────────■─────────────┤ X ├┤ Rz(0.8) ├──■─────────────┤ X ├──■──┤ X ├»\n",
      "     ┌─────────┐┌─┴─┐┌─────────┐└─┬─┘└─────────┘┌─┴─┐┌─────────┐└─┬─┘┌─┴─┐└─┬─┘»\n",
      "q_1: ┤ Rz(0.5) ├┤ X ├┤ Rz(1.2) ├──■─────────────┤ X ├┤ Rz(3.4) ├──■──┤ X ├──■──»\n",
      "     └─────────┘└───┘└─────────┘                └───┘└─────────┘     └───┘     »\n",
      "«                \n",
      "«q_0: ───────────\n",
      "«     ┌─────────┐\n",
      "«q_1: ┤ Rz(4.3) ├\n",
      "«     └─────────┘\n"
     ]
    }
   ],
   "source": [
    "netlist = qCircuit_to_netlist(circ)\n",
    "print(netlist)\n",
    "phase_poly = create_phase_polynomial_from_netlist(netlist)\n",
    "\n",
    "\n",
    "phase_poly = pretreatment_phase_polynomial(phase_poly)\n",
    "\n",
    "netlist = create_netlist_from_phase_polynomial(phase_poly)\n",
    "circ = netlist_to_qCircuit(netlist)\n",
    "print(circ)"
   ]
  },
  {
   "cell_type": "code",
   "execution_count": 42,
   "metadata": {},
   "outputs": [
    {
     "name": "stdout",
     "output_type": "stream",
     "text": [
      "                                ┌───┐┌─────────┐                ┌───┐»\n",
      "q_0: ─────────────■─────────────┤ X ├┤ Rz(0.8) ├──■─────────────┤ X ├»\n",
      "     ┌─────────┐┌─┴─┐┌─────────┐└─┬─┘└─────────┘┌─┴─┐┌─────────┐└─┬─┘»\n",
      "q_1: ┤ Rz(0.5) ├┤ X ├┤ Rz(1.2) ├──■─────────────┤ X ├┤ Rz(2.3) ├──■──»\n",
      "     └─────────┘└───┘└─────────┘                └───┘└─────────┘     »\n",
      "«                                ┌───┐                     \n",
      "«q_0: ─────────────■─────────────┤ X ├──■────■─────────────\n",
      "«     ┌─────────┐┌─┴─┐┌─────────┐└─┬─┘┌─┴─┐┌─┴─┐┌─────────┐\n",
      "«q_1: ┤ Rz(1.1) ├┤ X ├┤ Rz(3.4) ├──■──┤ X ├┤ X ├┤ Rz(0.9) ├\n",
      "«     └─────────┘└───┘└─────────┘     └───┘└───┘└─────────┘\n",
      "                                ┌───┐┌─────────┐                ┌───┐     ┌───┐»\n",
      "q_0: ─────────────■─────────────┤ X ├┤ Rz(0.8) ├──■─────────────┤ X ├──■──┤ X ├»\n",
      "     ┌─────────┐┌─┴─┐┌─────────┐└─┬─┘└─────────┘┌─┴─┐┌─────────┐└─┬─┘┌─┴─┐└─┬─┘»\n",
      "q_1: ┤ Rz(0.5) ├┤ X ├┤ Rz(1.2) ├──■─────────────┤ X ├┤ Rz(3.4) ├──■──┤ X ├──■──»\n",
      "     └─────────┘└───┘└─────────┘                └───┘└─────────┘     └───┘     »\n",
      "«                \n",
      "«q_0: ───────────\n",
      "«     ┌─────────┐\n",
      "«q_1: ┤ Rz(4.3) ├\n",
      "«     └─────────┘\n",
      "The circuits are equivalent up to a global phase: True\n"
     ]
    }
   ],
   "source": [
    "from qiskit import QuantumCircuit\n",
    "from qiskit.quantum_info import Operator\n",
    "import numpy as np\n",
    "\n",
    "# Create a complex circuit with Rz and CNOT gates\n",
    "qc_complex = QuantumCircuit(2)\n",
    "qc_complex.rz(0.5, 1)\n",
    "qc_complex.cx(0, 1)\n",
    "qc_complex.rz(1.2, 1)\n",
    "qc_complex.cx(1, 0)\n",
    "qc_complex.rz(0.8, 0)\n",
    "qc_complex.cx(0, 1)\n",
    "\n",
    "qc_complex.rz(2.3, 1)\n",
    "qc_complex.cx(1, 0)\n",
    "qc_complex.rz(1.1, 1)\n",
    "qc_complex.cx(0, 1)\n",
    "qc_complex.rz(3.4, 1)\n",
    "qc_complex.cx(1, 0)\n",
    "qc_complex.cx(0, 1)  # Pair of CNOTs with the same control and target, which should cancel out\n",
    "qc_complex.cx(0, 1)  # Another redundant pair\n",
    "qc_complex.rz(0.9, 1)\n",
    "\n",
    "\n",
    "\n",
    "qc_after = QuantumCircuit(2)\n",
    "qc_after.rz(0.5, 1)\n",
    "qc_after.cx(0, 1)\n",
    "qc_after.rz(1.2, 1)\n",
    "qc_after.cx(1, 0)\n",
    "qc_after.rz(0.8, 0)\n",
    "qc_after.cx(0, 1)\n",
    "\n",
    "qc_after.rz(3.4, 1)\n",
    "qc_after.cx(1, 0)\n",
    "qc_after.cx(0, 1)\n",
    "qc_after.cx(1, 0)\n",
    "qc_after.rz(4.3, 1)\n",
    "\n",
    "print(qc_complex)\n",
    "print(qc_after)\n",
    "\n",
    "def are_equivalent_up_to_phase(circuit1, circuit2, tolerance=1e-10):\n",
    "    # Calculate the unitary matrices for both circuits\n",
    "    unitary1 = Operator(circuit1).data\n",
    "    unitary2 = Operator(circuit2).data\n",
    "    \n",
    "    # Check if dimensions match\n",
    "    if unitary1.shape != unitary2.shape:\n",
    "        return False\n",
    "    \n",
    "    # Compute the relative phase between the matrices\n",
    "    product = np.dot(np.conjugate(np.transpose(unitary1)), unitary2)\n",
    "    trace = np.trace(product)\n",
    "    phase = trace / unitary1.shape[0]  # Average phase factor\n",
    "    \n",
    "    # Verify that the product of U1 and U2† is a scaled identity matrix\n",
    "    identity_check = product / phase  # Should be close to identity\n",
    "    \n",
    "    # Check if identity_check is close to an identity matrix within tolerance\n",
    "    is_identity = np.allclose(identity_check, np.eye(unitary1.shape[0]), atol=tolerance)\n",
    "    is_phase_unit = np.isclose(np.abs(phase), 1.0, atol=tolerance)\n",
    "    \n",
    "    return is_identity and is_phase_unit\n",
    "\n",
    "# Check if the circuits are equivalent up to a global phase\n",
    "equivalent = are_equivalent_up_to_phase(qc_complex, qc_after)\n",
    "print(\"The circuits are equivalent up to a global phase:\", equivalent)\n",
    "\n"
   ]
  },
  {
   "cell_type": "code",
   "execution_count": 43,
   "metadata": {},
   "outputs": [
    {
     "name": "stdout",
     "output_type": "stream",
     "text": [
      "                        ┌───┐┌───────┐                     ┌───────┐┌───┐\n",
      "q_0: ───────────■────■──┤ X ├┤ Rz(1) ├──■───────────────■──┤ Rz(3) ├┤ X ├\n",
      "     ┌───────┐┌─┴─┐  │  └─┬─┘├───────┤┌─┴─┐┌─────────┐┌─┴─┐├───────┤└─┬─┘\n",
      "q_1: ┤ Rz(1) ├┤ X ├──┼────■──┤ Rz(2) ├┤ X ├┤ Rz(2.5) ├┤ X ├┤ Rz(4) ├──■──\n",
      "     └───────┘└───┘┌─┴─┐     └───────┘└───┘└─────────┘└───┘└───────┘     \n",
      "q_2: ──────────────┤ X ├─────────────────────────────────────────────────\n",
      "                   └───┘                                                 \n"
     ]
    }
   ],
   "source": [
    "circ = QCircuit(3)\n",
    "    \n",
    "circ.add(Rz(1, 1))\n",
    "circ.add(CNOT(0, 1))\n",
    "circ.add(CNOT(0, 2))\n",
    "circ.add(CNOT(1, 0))\n",
    "circ.add(Rz(1, 0))\n",
    "circ.add(Rz(2, 1))\n",
    "circ.add(CNOT(0, 1)) \n",
    "circ.add(Rz(2.5, 1))\n",
    "circ.add(CNOT(0, 1))\n",
    "circ.add(Rz(3, 0))\n",
    "circ.add(Rz(4, 1))\n",
    "circ.add(CNOT(1, 0))\n",
    "\n",
    "print(circ)"
   ]
  },
  {
   "cell_type": "code",
   "execution_count": 44,
   "metadata": {},
   "outputs": [
    {
     "name": "stdout",
     "output_type": "stream",
     "text": [
      "[Rz([1]), CNOT(·[0], [1]), CNOT(·[0], [2]), CNOT(·[1], [0]), Rz([0]), Rz([1]), CNOT(·[0], [1]), Rz([1]), CNOT(·[0], [1]), Rz([0]), Rz([1]), CNOT(·[1], [0])]\n",
      "                        ┌───┐┌───────┐                              ┌───┐\n",
      "q_0: ───────────■────■──┤ X ├┤ Rz(4) ├──■───────────────■───────────┤ X ├\n",
      "     ┌───────┐┌─┴─┐  │  └─┬─┘└───────┘┌─┴─┐┌─────────┐┌─┴─┐┌───────┐└─┬─┘\n",
      "q_1: ┤ Rz(1) ├┤ X ├──┼────■───────────┤ X ├┤ Rz(2.5) ├┤ X ├┤ Rz(6) ├──■──\n",
      "     └───────┘└───┘┌─┴─┐              └───┘└─────────┘└───┘└───────┘     \n",
      "q_2: ──────────────┤ X ├─────────────────────────────────────────────────\n",
      "                   └───┘                                                 \n"
     ]
    }
   ],
   "source": [
    "netlist = qCircuit_to_netlist(circ)\n",
    "print(netlist)\n",
    "phase_poly = create_phase_polynomial_from_netlist(netlist)\n",
    "\n",
    "\n",
    "phase_poly = pretreatment_phase_polynomial(phase_poly)\n",
    "\n",
    "netlist = create_netlist_from_phase_polynomial(phase_poly)\n",
    "circ = netlist_to_qCircuit(netlist)\n",
    "print(circ)"
   ]
  },
  {
   "cell_type": "code",
   "execution_count": 45,
   "metadata": {},
   "outputs": [
    {
     "name": "stdout",
     "output_type": "stream",
     "text": [
      "                    \n",
      "q_0: ──■────■────■──\n",
      "     ┌─┴─┐  │  ┌─┴─┐\n",
      "q_1: ┤ X ├──┼──┤ X ├\n",
      "     └───┘┌─┴─┐└───┘\n",
      "q_2: ─────┤ X ├─────\n",
      "          └───┘     \n",
      "          \n",
      "q_0: ──■──\n",
      "       │  \n",
      "q_1: ──┼──\n",
      "     ┌─┴─┐\n",
      "q_2: ┤ X ├\n",
      "     └───┘\n",
      "The circuits are equivalent up to a global phase: True\n"
     ]
    }
   ],
   "source": [
    "from qiskit import QuantumCircuit\n",
    "from qiskit.quantum_info import Operator\n",
    "import numpy as np\n",
    "\n",
    "# Create a complex circuit with Rz and CNOT gates\n",
    "qc_complex = QuantumCircuit(3)\n",
    "qc_complex.cx(0, 1)\n",
    "qc_complex.cx(0, 2)\n",
    "qc_complex.cx(0, 1)\n",
    "\n",
    "qc_after = QuantumCircuit(3)\n",
    "qc_after.cx(0, 2)\n",
    "\n",
    "print(qc_complex)\n",
    "print(qc_after)\n",
    "\n",
    "\n",
    "def are_equivalent_up_to_phase(circuit1, circuit2, tolerance=1e-10):\n",
    "    # Calculate the unitary matrices for both circuits\n",
    "    unitary1 = Operator(circuit1).data\n",
    "    unitary2 = Operator(circuit2).data\n",
    "    \n",
    "    # Check if dimensions match\n",
    "    if unitary1.shape != unitary2.shape:\n",
    "        return False\n",
    "    \n",
    "    # Compute the relative phase between the matrices\n",
    "    product = np.dot(np.conjugate(np.transpose(unitary1)), unitary2)\n",
    "    trace = np.trace(product)\n",
    "    phase = trace / unitary1.shape[0]  # Average phase factor\n",
    "    \n",
    "    # Verify that the product of U1 and U2† is a scaled identity matrix\n",
    "    identity_check = product / phase  # Should be close to identity\n",
    "    \n",
    "    # Check if identity_check is close to an identity matrix within tolerance\n",
    "    is_identity = np.allclose(identity_check, np.eye(unitary1.shape[0]), atol=tolerance)\n",
    "    is_phase_unit = np.isclose(np.abs(phase), 1.0, atol=tolerance)\n",
    "    \n",
    "    return is_identity and is_phase_unit\n",
    "\n",
    "# Check if the circuits are equivalent up to a global phase\n",
    "equivalent = are_equivalent_up_to_phase(qc_complex, qc_after)\n",
    "print(\"The circuits are equivalent up to a global phase:\", equivalent)"
   ]
  }
 ],
 "metadata": {
  "kernelspec": {
   "display_name": "mpqp",
   "language": "python",
   "name": "python3"
  },
  "language_info": {
   "codemirror_mode": {
    "name": "ipython",
    "version": 3
   },
   "file_extension": ".py",
   "mimetype": "text/x-python",
   "name": "python",
   "nbconvert_exporter": "python",
   "pygments_lexer": "ipython3",
   "version": "3.10.15"
  }
 },
 "nbformat": 4,
 "nbformat_minor": 2
}
