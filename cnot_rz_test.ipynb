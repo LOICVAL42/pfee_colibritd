{
 "cells": [
  {
   "cell_type": "code",
   "execution_count": 19,
   "metadata": {},
   "outputs": [],
   "source": [
    "from src.optimisers.hadamard_gate_reduction import Hadamard_gate_reduction\n",
    "from src.optimisers.single_qubit_gate_cancellation import Single_qubit_gate_cancellation\n",
    "from src.optimisers.phase_polynomial_optimizer import optimize_phase_polynomial\n",
    "\n",
    "from src.converters.netlist_converters import qCircuit_to_netlist, netlist_to_qCircuit\n",
    "from src.converters.graph_converter import create_graph_from_netlist, create_netlist_from_graph\n",
    "from src.converters.phase_polynomial_converter import create_phase_polynomial_from_netlist, create_circuit_from_phase_polynomial\n",
    "\n",
    "from src.utils.graphs import plot_graph\n",
    "from mpqp import QCircuit\n",
    "from mpqp.gates import X, CNOT, Z, H , Rz"
   ]
  },
  {
   "cell_type": "code",
   "execution_count": 20,
   "metadata": {},
   "outputs": [
    {
     "name": "stdout",
     "output_type": "stream",
     "text": [
      "                                 ┌───────┐┌───┐\n",
      "q_0: ───────────■─────────────■──┤ Rz(3) ├┤ X ├\n",
      "     ┌───────┐┌─┴─┐┌───────┐┌─┴─┐├───────┤└─┬─┘\n",
      "q_1: ┤ Rz(1) ├┤ X ├┤ Rz(2) ├┤ X ├┤ Rz(4) ├──■──\n",
      "     └───────┘└───┘└───────┘└───┘└───────┘     \n"
     ]
    }
   ],
   "source": [
    "circ = QCircuit(2)\n",
    "    \n",
    "circ.add(Rz(1, 1))\n",
    "circ.add(CNOT(0, 1))\n",
    "circ.add(Rz(2, 1))\n",
    "circ.add(CNOT(0, 1)) \n",
    "circ.add(Rz(3, 0))\n",
    "circ.add(Rz(4, 1))\n",
    "circ.add(CNOT(1, 0))\n",
    "\n",
    "print(circ)"
   ]
  },
  {
   "cell_type": "code",
   "execution_count": 21,
   "metadata": {},
   "outputs": [
    {
     "name": "stdout",
     "output_type": "stream",
     "text": [
      "[Rz([1]), CNOT(·[0], [1]), Rz([1]), CNOT(·[0], [1]), Rz([0]), Rz([1]), CNOT(·[1], [0])]\n"
     ]
    }
   ],
   "source": [
    "netlist = qCircuit_to_netlist(circ)\n",
    "print(netlist)\n",
    "polynome = create_phase_polynomial_from_netlist(netlist)"
   ]
  },
  {
   "cell_type": "code",
   "execution_count": 22,
   "metadata": {},
   "outputs": [],
   "source": [
    "opti_polynome =  optimize_phase_polynomial(polynome)"
   ]
  },
  {
   "cell_type": "code",
   "execution_count": 23,
   "metadata": {},
   "outputs": [
    {
     "name": "stdout",
     "output_type": "stream",
     "text": [
      "[CNOT(·[0], [1]), Rz([1]), CNOT(·[0], [1]), Rz([1]), Rz([1]), Rz([0]), CNOT(·[1], [0])]\n"
     ]
    }
   ],
   "source": [
    "netlist2 = create_circuit_from_phase_polynomial(opti_polynome)\n",
    "print(netlist2)\n"
   ]
  },
  {
   "cell_type": "code",
   "execution_count": 24,
   "metadata": {},
   "outputs": [
    {
     "name": "stdout",
     "output_type": "stream",
     "text": [
      "before :\n",
      "                                 ┌───────┐┌───┐\n",
      "q_0: ───────────■─────────────■──┤ Rz(3) ├┤ X ├\n",
      "     ┌───────┐┌─┴─┐┌───────┐┌─┴─┐├───────┤└─┬─┘\n",
      "q_1: ┤ Rz(1) ├┤ X ├┤ Rz(2) ├┤ X ├┤ Rz(4) ├──■──\n",
      "     └───────┘└───┘└───────┘└───┘└───────┘     \n",
      "after :\n",
      "                        ┌───────┐         ┌───┐\n",
      "q_0: ──■─────────────■──┤ Rz(3) ├─────────┤ X ├\n",
      "     ┌─┴─┐┌───────┐┌─┴─┐├───────┤┌───────┐└─┬─┘\n",
      "q_1: ┤ X ├┤ Rz(2) ├┤ X ├┤ Rz(4) ├┤ Rz(1) ├──■──\n",
      "     └───┘└───────┘└───┘└───────┘└───────┘     \n"
     ]
    }
   ],
   "source": [
    "circ2 = netlist_to_qCircuit(netlist2)\n",
    "print(\"before :\")\n",
    "print(circ)\n",
    "print(\"after :\")\n",
    "print(circ2)"
   ]
  },
  {
   "cell_type": "code",
   "execution_count": null,
   "metadata": {},
   "outputs": [],
   "source": []
  }
 ],
 "metadata": {
  "kernelspec": {
   "display_name": "mpqp",
   "language": "python",
   "name": "python3"
  },
  "language_info": {
   "codemirror_mode": {
    "name": "ipython",
    "version": 3
   },
   "file_extension": ".py",
   "mimetype": "text/x-python",
   "name": "python",
   "nbconvert_exporter": "python",
   "pygments_lexer": "ipython3",
   "version": "3.10.15"
  }
 },
 "nbformat": 4,
 "nbformat_minor": 2
}
