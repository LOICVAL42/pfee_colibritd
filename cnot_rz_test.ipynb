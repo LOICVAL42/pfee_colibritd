{
 "cells": [
  {
   "cell_type": "code",
   "execution_count": 1,
   "metadata": {},
   "outputs": [],
   "source": [
    "from src.optimisers.phase_polynomial_optimizer import optimize_phase_polynomial\n",
    "\n",
    "from src.converters.netlist_converters import qCircuit_to_netlist, netlist_to_qCircuit\n",
    "from src.converters.graph_converter import create_graph_from_netlist, create_netlist_from_graph\n",
    "from src.converters.phase_polynomial_converter import create_phase_polynomial_from_netlist, create_netlist_from_phase_polynomial\n",
    "\n",
    "from src.utils.graphs import plot_graph\n",
    "from mpqp import QCircuit\n",
    "from mpqp.gates import X, CNOT, Z, H , Rz, S"
   ]
  },
  {
   "cell_type": "code",
   "execution_count": 2,
   "metadata": {},
   "outputs": [
    {
     "name": "stdout",
     "output_type": "stream",
     "text": [
      "   ┌────┐\n",
      "q: ┤ S† ├\n",
      "   └────┘\n"
     ]
    }
   ],
   "source": [
    "def Sdg(qubit):\n",
    "    sdg = S(qubit).inverse()\n",
    "    sdg.label = \"S†\"\n",
    "    return sdg\n",
    "circ = QCircuit(1)\n",
    "circ.add(Sdg(0))\n",
    "print(circ)"
   ]
  },
  {
   "cell_type": "markdown",
   "metadata": {},
   "source": [
    "# Circuit 1"
   ]
  },
  {
   "cell_type": "code",
   "execution_count": 17,
   "metadata": {},
   "outputs": [
    {
     "name": "stdout",
     "output_type": "stream",
     "text": [
      "                                          ┌───┐                ┌───────┐┌───┐\n",
      "q_0: ────────────────────■─────────────■──┤ X ├─────────────■──┤ Rz(3) ├┤ X ├\n",
      "     ┌───────┐┌───────┐┌─┴─┐┌───────┐┌─┴─┐└─┬─┘┌─────────┐┌─┴─┐├───────┤└─┬─┘\n",
      "q_1: ┤ Rz(7) ├┤ Rz(1) ├┤ X ├┤ Rz(2) ├┤ X ├──■──┤ Rz(2.5) ├┤ X ├┤ Rz(4) ├──■──\n",
      "     └───────┘└───────┘└───┘└───────┘└───┘     └─────────┘└───┘└───────┘     \n"
     ]
    }
   ],
   "source": [
    "circ = QCircuit(2)\n",
    "    \n",
    "circ.add(Rz(7, 1))\n",
    "circ.add(Rz(1, 1))\n",
    "circ.add(CNOT(0, 1))\n",
    "circ.add(Rz(2, 1))\n",
    "\n",
    "circ.add(CNOT(0, 1))\n",
    "circ.add(CNOT(1, 0)) \n",
    "circ.add(Rz(2.5, 1))\n",
    "circ.add(CNOT(0, 1))\n",
    "circ.add(Rz(3, 0))\n",
    "circ.add(Rz(4, 1))\n",
    "circ.add(CNOT(1, 0))\n",
    "\n",
    "print(circ)"
   ]
  },
  {
   "cell_type": "code",
   "execution_count": 18,
   "metadata": {},
   "outputs": [
    {
     "name": "stdout",
     "output_type": "stream",
     "text": [
      "[Rz([1]), Rz([1]), CNOT(·[0], [1]), Rz([1]), CNOT(·[0], [1]), CNOT(·[1], [0]), Rz([1]), CNOT(·[0], [1]), Rz([0]), Rz([1]), CNOT(·[1], [0])]\n",
      "                        ┌───┐                 ┌───────┐┌───┐\n",
      "q_0: ──■─────────────■──┤ X ├──────────────■──┤ Rz(3) ├┤ X ├\n",
      "     ┌─┴─┐┌───────┐┌─┴─┐└─┬─┘┌──────────┐┌─┴─┐├───────┤└─┬─┘\n",
      "q_1: ┤ X ├┤ Rz(2) ├┤ X ├──■──┤ Rz(10.5) ├┤ X ├┤ Rz(4) ├──■──\n",
      "     └───┘└───────┘└───┘     └──────────┘└───┘└───────┘     \n"
     ]
    }
   ],
   "source": [
    "netlist = qCircuit_to_netlist(circ)\n",
    "print(netlist)\n",
    "phase_poly = create_phase_polynomial_from_netlist(netlist)\n",
    "\n",
    "\n",
    "phase_poly = optimize_phase_polynomial(phase_poly)\n",
    "\n",
    "netlist = create_netlist_from_phase_polynomial(phase_poly)\n",
    "circ = netlist_to_qCircuit(netlist)\n",
    "print(circ)"
   ]
  },
  {
   "cell_type": "markdown",
   "metadata": {},
   "source": [
    "# Circuit 2"
   ]
  },
  {
   "cell_type": "code",
   "execution_count": 7,
   "metadata": {},
   "outputs": [
    {
     "name": "stdout",
     "output_type": "stream",
     "text": [
      "                                ┌───┐┌─────────┐                ┌───┐»\n",
      "q_0: ─────────────■─────────────┤ X ├┤ Rz(0.8) ├──■─────────────┤ X ├»\n",
      "     ┌─────────┐┌─┴─┐┌─────────┐└─┬─┘└─────────┘┌─┴─┐┌─────────┐└─┬─┘»\n",
      "q_1: ┤ Rz(0.5) ├┤ X ├┤ Rz(1.2) ├──■─────────────┤ X ├┤ Rz(2.3) ├──■──»\n",
      "     └─────────┘└───┘└─────────┘                └───┘└─────────┘     »\n",
      "«                                ┌───┐                     \n",
      "«q_0: ─────────────■─────────────┤ X ├──■────■─────────────\n",
      "«     ┌─────────┐┌─┴─┐┌─────────┐└─┬─┘┌─┴─┐┌─┴─┐┌─────────┐\n",
      "«q_1: ┤ Rz(1.1) ├┤ X ├┤ Rz(3.4) ├──■──┤ X ├┤ X ├┤ Rz(0.9) ├\n",
      "«     └─────────┘└───┘└─────────┘     └───┘└───┘└─────────┘\n"
     ]
    }
   ],
   "source": [
    "circ = QCircuit(2)\n",
    "\n",
    "# Define a complex circuit with Rz and CNOT gates\n",
    "circ = QCircuit(2)\n",
    "\n",
    "# Define a complex circuit with Rz and CNOT gates\n",
    "circ.add(Rz(0.5, 1))\n",
    "circ.add(CNOT(0, 1))\n",
    "circ.add(Rz(1.2, 1))\n",
    "circ.add(CNOT(1, 0))\n",
    "circ.add(Rz(0.8, 0))\n",
    "circ.add(CNOT(0, 1))\n",
    "circ.add(Rz(2.3, 1))\n",
    "circ.add(CNOT(1, 0))\n",
    "circ.add(Rz(1.1, 1))\n",
    "circ.add(CNOT(0, 1))\n",
    "circ.add(Rz(3.4, 1))\n",
    "circ.add(CNOT(1, 0))\n",
    "circ.add(CNOT(0, 1))  # Pair of CNOTs with the same control and target, which should cancel out\n",
    "circ.add(CNOT(0, 1))  # Another redundant pair\n",
    "circ.add(Rz(0.9, 1))\n",
    "\n",
    "print(circ)\n"
   ]
  },
  {
   "cell_type": "code",
   "execution_count": 8,
   "metadata": {},
   "outputs": [
    {
     "name": "stdout",
     "output_type": "stream",
     "text": [
      "                                ┌───┐┌─────────┐                ┌───┐     ┌───┐»\n",
      "q_0: ─────────────■─────────────┤ X ├┤ Rz(0.8) ├──■─────────────┤ X ├──■──┤ X ├»\n",
      "     ┌─────────┐┌─┴─┐┌─────────┐└─┬─┘└─────────┘┌─┴─┐┌─────────┐└─┬─┘┌─┴─┐└─┬─┘»\n",
      "q_1: ┤ Rz(0.5) ├┤ X ├┤ Rz(1.2) ├──■─────────────┤ X ├┤ Rz(3.4) ├──■──┤ X ├──■──»\n",
      "     └─────────┘└───┘└─────────┘                └───┘└─────────┘     └───┘     »\n",
      "«                          \n",
      "«q_0: ──■────■─────────────\n",
      "«     ┌─┴─┐┌─┴─┐┌─────────┐\n",
      "«q_1: ┤ X ├┤ X ├┤ Rz(4.3) ├\n",
      "«     └───┘└───┘└─────────┘\n"
     ]
    }
   ],
   "source": [
    "netlist = qCircuit_to_netlist(circ)\n",
    "\n",
    "phase_poly = create_phase_polynomial_from_netlist(netlist)\n",
    "phase_poly = optimize_phase_polynomial(phase_poly)\n",
    "netlist = create_netlist_from_phase_polynomial(phase_poly)\n",
    "circ = netlist_to_qCircuit(netlist)\n",
    "print(circ)"
   ]
  },
  {
   "cell_type": "markdown",
   "metadata": {},
   "source": [
    "# Circuit 3"
   ]
  },
  {
   "cell_type": "code",
   "execution_count": 9,
   "metadata": {},
   "outputs": [
    {
     "name": "stdout",
     "output_type": "stream",
     "text": [
      "                        ┌───┐┌───────┐                     ┌───────┐┌───┐\n",
      "q_0: ───────────■────■──┤ X ├┤ Rz(1) ├──■───────────────■──┤ Rz(3) ├┤ X ├\n",
      "     ┌───────┐┌─┴─┐  │  └─┬─┘├───────┤┌─┴─┐┌─────────┐┌─┴─┐├───────┤└─┬─┘\n",
      "q_1: ┤ Rz(1) ├┤ X ├──┼────■──┤ Rz(2) ├┤ X ├┤ Rz(2.5) ├┤ X ├┤ Rz(4) ├──■──\n",
      "     └───────┘└───┘┌─┴─┐     └───────┘└───┘└─────────┘└───┘└───────┘     \n",
      "q_2: ──────────────┤ X ├─────────────────────────────────────────────────\n",
      "                   └───┘                                                 \n"
     ]
    }
   ],
   "source": [
    "circ = QCircuit(3)\n",
    "    \n",
    "circ.add(Rz(1, 1))\n",
    "circ.add(CNOT(0, 1))\n",
    "circ.add(CNOT(0, 2))\n",
    "circ.add(CNOT(1, 0))\n",
    "circ.add(Rz(1, 0))\n",
    "circ.add(Rz(2, 1))\n",
    "circ.add(CNOT(0, 1)) \n",
    "circ.add(Rz(2.5, 1))\n",
    "circ.add(CNOT(0, 1))\n",
    "circ.add(Rz(3, 0))\n",
    "circ.add(Rz(4, 1))\n",
    "circ.add(CNOT(1, 0))\n",
    "\n",
    "print(circ)"
   ]
  },
  {
   "cell_type": "code",
   "execution_count": 10,
   "metadata": {},
   "outputs": [
    {
     "name": "stdout",
     "output_type": "stream",
     "text": [
      "[Rz([1]), CNOT(·[0], [1]), CNOT(·[0], [2]), CNOT(·[1], [0]), Rz([0]), Rz([1]), CNOT(·[0], [1]), Rz([1]), CNOT(·[0], [1]), Rz([0]), Rz([1]), CNOT(·[1], [0])]\n",
      "                        ┌───┐┌───────┐                              ┌───┐\n",
      "q_0: ───────────■────■──┤ X ├┤ Rz(4) ├──■───────────────■───────────┤ X ├\n",
      "     ┌───────┐┌─┴─┐  │  └─┬─┘└───────┘┌─┴─┐┌─────────┐┌─┴─┐┌───────┐└─┬─┘\n",
      "q_1: ┤ Rz(1) ├┤ X ├──┼────■───────────┤ X ├┤ Rz(2.5) ├┤ X ├┤ Rz(6) ├──■──\n",
      "     └───────┘└───┘┌─┴─┐              └───┘└─────────┘└───┘└───────┘     \n",
      "q_2: ──────────────┤ X ├─────────────────────────────────────────────────\n",
      "                   └───┘                                                 \n"
     ]
    }
   ],
   "source": [
    "netlist = qCircuit_to_netlist(circ)\n",
    "print(netlist)\n",
    "phase_poly = create_phase_polynomial_from_netlist(netlist)\n",
    "\n",
    "\n",
    "phase_poly = optimize_phase_polynomial(phase_poly)\n",
    "\n",
    "netlist = create_netlist_from_phase_polynomial(phase_poly)\n",
    "circ = netlist_to_qCircuit(netlist)\n",
    "print(circ)"
   ]
  },
  {
   "cell_type": "markdown",
   "metadata": {},
   "source": [
    "# Circuit 4"
   ]
  },
  {
   "cell_type": "code",
   "execution_count": 11,
   "metadata": {},
   "outputs": [
    {
     "name": "stdout",
     "output_type": "stream",
     "text": [
      "                                       \n",
      "q_0: ───────────■─────────■────────────\n",
      "     ┌───────┐┌─┴─┐┌───┐┌─┴─┐┌────────┐\n",
      "q_1: ┤ Rz(1) ├┤ X ├┤ S ├┤ X ├┤ Rz(-1) ├\n",
      "     └───────┘└───┘└───┘└───┘└────────┘\n"
     ]
    }
   ],
   "source": [
    "circ = QCircuit(2)\n",
    "    \n",
    "circ.add(Rz(1, 1))\n",
    "circ.add(CNOT(0, 1))\n",
    "circ.add(S(1))\n",
    "circ.add(CNOT(0, 1)) \n",
    "circ.add(Rz(-1, 1))\n",
    "\n",
    "print(circ)"
   ]
  },
  {
   "cell_type": "code",
   "execution_count": 12,
   "metadata": {},
   "outputs": [
    {
     "ename": "TypeError",
     "evalue": "It's not a X, Rz or Cnot",
     "output_type": "error",
     "traceback": [
      "\u001b[0;31m---------------------------------------------------------------------------\u001b[0m",
      "\u001b[0;31mTypeError\u001b[0m                                 Traceback (most recent call last)",
      "Cell \u001b[0;32mIn[12], line 2\u001b[0m\n\u001b[1;32m      1\u001b[0m netlist \u001b[38;5;241m=\u001b[39m qCircuit_to_netlist(circ)\n\u001b[0;32m----> 2\u001b[0m phase_poly \u001b[38;5;241m=\u001b[39m \u001b[43mcreate_phase_polynomial_from_netlist\u001b[49m\u001b[43m(\u001b[49m\u001b[43mnetlist\u001b[49m\u001b[43m)\u001b[49m\n\u001b[1;32m      3\u001b[0m phase_poly \u001b[38;5;241m=\u001b[39m optimize_phase_polynomial(phase_poly)\n\u001b[1;32m      4\u001b[0m netlist \u001b[38;5;241m=\u001b[39m create_netlist_from_phase_polynomial(phase_poly)\n",
      "File \u001b[0;32m~/mpqp/pfee_colibritd/src/converters/phase_polynomial_converter.py:25\u001b[0m, in \u001b[0;36mcreate_phase_polynomial_from_netlist\u001b[0;34m(netlist)\u001b[0m\n\u001b[1;32m     23\u001b[0m         phase_poly\u001b[38;5;241m.\u001b[39mappend(\u001b[38;5;124mf\u001b[39m\u001b[38;5;124m\"\u001b[39m\u001b[38;5;124mx\u001b[39m\u001b[38;5;132;01m{\u001b[39;00mgate\u001b[38;5;241m.\u001b[39mtargets[\u001b[38;5;241m0\u001b[39m]\u001b[38;5;132;01m}\u001b[39;00m\u001b[38;5;124m ⊕ 1\u001b[39m\u001b[38;5;124m\"\u001b[39m)\n\u001b[1;32m     24\u001b[0m     \u001b[38;5;28;01melse\u001b[39;00m:\n\u001b[0;32m---> 25\u001b[0m         \u001b[38;5;28;01mraise\u001b[39;00m \u001b[38;5;167;01mTypeError\u001b[39;00m(\u001b[38;5;124m\"\u001b[39m\u001b[38;5;124mIt\u001b[39m\u001b[38;5;124m'\u001b[39m\u001b[38;5;124ms not a X, Rz or Cnot\u001b[39m\u001b[38;5;124m\"\u001b[39m)\n\u001b[1;32m     26\u001b[0m \u001b[38;5;28;01mreturn\u001b[39;00m phase_poly\n",
      "\u001b[0;31mTypeError\u001b[0m: It's not a X, Rz or Cnot"
     ]
    }
   ],
   "source": [
    "netlist = qCircuit_to_netlist(circ)\n",
    "phase_poly = create_phase_polynomial_from_netlist(netlist)\n",
    "phase_poly = optimize_phase_polynomial(phase_poly)\n",
    "netlist = create_netlist_from_phase_polynomial(phase_poly)\n",
    "circ = netlist_to_qCircuit(netlist)\n",
    "print(circ)"
   ]
  },
  {
   "cell_type": "code",
   "execution_count": null,
   "metadata": {},
   "outputs": [],
   "source": []
  },
  {
   "cell_type": "code",
   "execution_count": null,
   "metadata": {},
   "outputs": [],
   "source": []
  },
  {
   "cell_type": "code",
   "execution_count": null,
   "metadata": {},
   "outputs": [],
   "source": []
  }
 ],
 "metadata": {
  "kernelspec": {
   "display_name": "mpqp",
   "language": "python",
   "name": "python3"
  },
  "language_info": {
   "codemirror_mode": {
    "name": "ipython",
    "version": 3
   },
   "file_extension": ".py",
   "mimetype": "text/x-python",
   "name": "python",
   "nbconvert_exporter": "python",
   "pygments_lexer": "ipython3",
   "version": "3.10.15"
  }
 },
 "nbformat": 4,
 "nbformat_minor": 2
}
