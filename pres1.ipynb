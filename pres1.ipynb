{
 "cells": [
  {
   "cell_type": "code",
   "execution_count": 1,
   "metadata": {},
   "outputs": [],
   "source": [
    "from src.optimisers.hadamard_gate_reduction import HadamardGateReduction\n",
    "from src.optimisers import SingleQubitGateCancellation\n",
    "from src.optimisers import CNOTGateCancellation\n",
    "from src.converters.netlist_converters import qCircuit_to_netlist, netlist_to_qCircuit\n",
    "from src.converters.graph_converter import create_graph_from_netlist, create_netlist_from_graph\n",
    "from src.utils.graphs import plot_graph\n",
    "from mpqp import QCircuit\n",
    "from mpqp.gates import X, CNOT, Z, H, S, T\n",
    "from mpqp.measures import BasisMeasure, ComputationalBasis, HadamardBasis\n",
    "from mpqp.execution import *"
   ]
  },
  {
   "cell_type": "code",
   "execution_count": 4,
   "metadata": {},
   "outputs": [],
   "source": [
    "def Sdg(qubit):\n",
    "    sdg = S(qubit).inverse()\n",
    "    sdg.label = \"S†\"\n",
    "    return sdg\n",
    "\n",
    "def Tdg(qubit):\n",
    "    tdg = T(qubit).inverse()\n",
    "    tdg.label = \"T†\"\n",
    "    return tdg"
   ]
  },
  {
   "cell_type": "code",
   "execution_count": 5,
   "metadata": {},
   "outputs": [],
   "source": [
    "def optimise_circuit(circ: QCircuit, print_graphs = False, do_h_red=True, do_sg_cancel=True, do_cnot_cancel=True):\n",
    "    print(\"Circuit:\")\n",
    "    print(circ)\n",
    "    netlist = qCircuit_to_netlist(circ)\n",
    "    graph = create_graph_from_netlist(netlist)\n",
    "    if print_graphs:\n",
    "        print(\"First graph\")\n",
    "        plot_graph(graph, node_size=1000)\n",
    "    if do_h_red:\n",
    "        HadamardGateReduction.new_optimise(graph)\n",
    "    if do_sg_cancel:\n",
    "        SingleQubitGateCancellation.optimise(graph)\n",
    "    if do_cnot_cancel:\n",
    "        CNOTGateCancellation.optimise(graph)\n",
    "    if print_graphs:\n",
    "        print(\"Optimised graph\")\n",
    "        plot_graph(graph, node_size=1000)\n",
    "    opt_circ = netlist_to_qCircuit(create_netlist_from_graph(graph))\n",
    "    print(\"Optimised circuit\")\n",
    "    print(opt_circ)\n",
    "    return opt_circ\n"
   ]
  },
  {
   "cell_type": "code",
   "execution_count": 6,
   "metadata": {},
   "outputs": [],
   "source": [
    "def run_circuit(circ: QCircuit, nbqubits, shots=1000, basis=ComputationalBasis()):\n",
    "    circ.add(BasisMeasure(list(range(nbqubits)), shots=shots, basis=basis))\n",
    "    result = run(circ, IBMDevice.AER_SIMULATOR)\n",
    "    print(result)"
   ]
  },
  {
   "cell_type": "code",
   "execution_count": 7,
   "metadata": {},
   "outputs": [],
   "source": [
    "p_graphs = False"
   ]
  },
  {
   "cell_type": "markdown",
   "metadata": {},
   "source": [
    "# Circuit 1"
   ]
  },
  {
   "cell_type": "code",
   "execution_count": 8,
   "metadata": {},
   "outputs": [
    {
     "name": "stdout",
     "output_type": "stream",
     "text": [
      "Circuit:\n",
      "   ┌───┐┌───┐┌───┐┌───┐┌───┐\n",
      "q: ┤ H ├┤ S ├┤ H ├┤ S ├┤ H ├\n",
      "   └───┘└───┘└───┘└───┘└───┘\n",
      "Optimised circuit\n",
      "   ┌────┐\n",
      "q: ┤ S† ├\n",
      "   └────┘\n"
     ]
    }
   ],
   "source": [
    "circ = QCircuit(1)\n",
    "circ.add(H(0))\n",
    "circ.add(S(0))\n",
    "circ.add(H(0))\n",
    "circ.add(S(0))\n",
    "circ.add(H(0))\n",
    "\n",
    "opt_circ = optimise_circuit(circ, p_graphs)"
   ]
  },
  {
   "cell_type": "code",
   "execution_count": 7,
   "metadata": {},
   "outputs": [
    {
     "name": "stdout",
     "output_type": "stream",
     "text": [
      "Result: None, IBMDevice, AER_SIMULATOR\n",
      " Counts: [1000, 0]\n",
      " Probabilities: [1, 0]\n",
      " Samples:\n",
      "  State: 0, Index: 0, Count: 1000, Probability: 1.0\n",
      " Error: None\n",
      "Result: None, IBMDevice, AER_SIMULATOR\n",
      " Counts: [1000, 0]\n",
      " Probabilities: [1, 0]\n",
      " Samples:\n",
      "  State: 0, Index: 0, Count: 1000, Probability: 1.0\n",
      " Error: None\n"
     ]
    }
   ],
   "source": [
    "# Should be 1\n",
    "run_circuit(circ, 1)\n",
    "run_circuit(opt_circ, 1)"
   ]
  },
  {
   "cell_type": "markdown",
   "metadata": {},
   "source": [
    "# Circuit 2"
   ]
  },
  {
   "cell_type": "code",
   "execution_count": 9,
   "metadata": {},
   "outputs": [
    {
     "name": "stdout",
     "output_type": "stream",
     "text": [
      "Circuit:\n",
      "     ┌───┐     ┌───┐\n",
      "q_0: ┤ H ├──■──┤ H ├\n",
      "     ├───┤┌─┴─┐├───┤\n",
      "q_1: ┤ H ├┤ X ├┤ H ├\n",
      "     └───┘└───┘└───┘\n",
      "Optimised circuit\n",
      "     ┌───┐\n",
      "q_0: ┤ X ├\n",
      "     └─┬─┘\n",
      "q_1: ──■──\n",
      "          \n"
     ]
    },
    {
     "data": {
      "text/plain": [
       "QCircuit([CNOT(1,0)], nb_qubits=2, nb_cbits=None, label=\"None\")"
      ]
     },
     "execution_count": 9,
     "metadata": {},
     "output_type": "execute_result"
    }
   ],
   "source": [
    "circ = QCircuit(2)\n",
    "circ.add(H(0))\n",
    "circ.add(H(1))\n",
    "circ.add(CNOT(0, 1))\n",
    "circ.add(H(1))\n",
    "circ.add(H(0))\n",
    "\n",
    "optimise_circuit(circ, p_graphs)"
   ]
  },
  {
   "cell_type": "markdown",
   "metadata": {},
   "source": [
    "# Circuit 3"
   ]
  },
  {
   "cell_type": "code",
   "execution_count": 10,
   "metadata": {},
   "outputs": [
    {
     "name": "stdout",
     "output_type": "stream",
     "text": [
      "Circuit:\n",
      "                               \n",
      "q_0: ────────────■─────────────\n",
      "     ┌───┐┌───┐┌─┴─┐┌────┐┌───┐\n",
      "q_1: ┤ H ├┤ S ├┤ X ├┤ S† ├┤ H ├\n",
      "     └───┘└───┘└───┘└────┘└───┘\n",
      "Optimised circuit\n",
      "                     \n",
      "q_0: ────────■───────\n",
      "     ┌────┐┌─┴─┐┌───┐\n",
      "q_1: ┤ S† ├┤ X ├┤ S ├\n",
      "     └────┘└───┘└───┘\n"
     ]
    },
    {
     "data": {
      "text/plain": [
       "QCircuit([CustomGate(1), CNOT(0,1), S(1)], nb_qubits=2, nb_cbits=None, label=\"None\")"
      ]
     },
     "execution_count": 10,
     "metadata": {},
     "output_type": "execute_result"
    }
   ],
   "source": [
    "circ = QCircuit(2)\n",
    "circ.add(H(1))\n",
    "circ.add(S(1))\n",
    "circ.add(CNOT(0, 1))\n",
    "circ.add(Sdg(1))\n",
    "circ.add(H(1))\n",
    "\n",
    "optimise_circuit(circ, p_graphs)"
   ]
  },
  {
   "cell_type": "markdown",
   "metadata": {},
   "source": [
    "# Circuit 4"
   ]
  },
  {
   "cell_type": "code",
   "execution_count": 11,
   "metadata": {},
   "outputs": [
    {
     "name": "stdout",
     "output_type": "stream",
     "text": [
      "Circuit:\n",
      "                                          \n",
      "q_0: ───────────────────■─────────────────\n",
      "     ┌────┐┌───┐┌────┐┌─┴─┐┌───┐┌───┐┌───┐\n",
      "q_1: ┤ S† ├┤ H ├┤ S† ├┤ X ├┤ S ├┤ H ├┤ S ├\n",
      "     └────┘└───┘└────┘└───┘└───┘└───┘└───┘\n",
      "Optimised circuit\n",
      "          \n",
      "q_0: ──■──\n",
      "     ┌─┴─┐\n",
      "q_1: ┤ X ├\n",
      "     └───┘\n"
     ]
    },
    {
     "data": {
      "text/plain": [
       "QCircuit([CNOT(0,1)], nb_qubits=2, nb_cbits=None, label=\"None\")"
      ]
     },
     "execution_count": 11,
     "metadata": {},
     "output_type": "execute_result"
    }
   ],
   "source": [
    "circ = QCircuit(2)\n",
    "circ.add(Sdg(1))\n",
    "circ.add(H(1))\n",
    "circ.add(Sdg(1))\n",
    "circ.add(CNOT(0, 1))\n",
    "circ.add(S(1))\n",
    "circ.add(H(1))\n",
    "circ.add(S(1))\n",
    "\n",
    "optimise_circuit(circ, p_graphs)"
   ]
  },
  {
   "cell_type": "markdown",
   "metadata": {},
   "source": [
    "# Circuit 5"
   ]
  },
  {
   "cell_type": "code",
   "execution_count": 12,
   "metadata": {},
   "outputs": [
    {
     "name": "stdout",
     "output_type": "stream",
     "text": [
      "Circuit:\n",
      "     ┌───┐ ┌───┐┌───┐ ┌───┐┌───┐┌───┐                    \n",
      "q_0: ┤ S ├─┤ H ├┤ S ├─┤ H ├┤ S ├┤ H ├──■─────────────────\n",
      "     ├───┴┐├───┤├───┴┐└───┘└───┘└───┘┌─┴─┐┌───┐┌───┐┌───┐\n",
      "q_1: ┤ S† ├┤ H ├┤ S† ├───────────────┤ X ├┤ S ├┤ H ├┤ S ├\n",
      "     └────┘└───┘└────┘               └───┘└───┘└───┘└───┘\n",
      "Optimised circuit\n",
      "          \n",
      "q_0: ──■──\n",
      "     ┌─┴─┐\n",
      "q_1: ┤ X ├\n",
      "     └───┘\n"
     ]
    },
    {
     "data": {
      "text/plain": [
       "QCircuit([CNOT(0,1)], nb_qubits=2, nb_cbits=None, label=\"None\")"
      ]
     },
     "execution_count": 12,
     "metadata": {},
     "output_type": "execute_result"
    }
   ],
   "source": [
    "circ = QCircuit(2)\n",
    "circ.add(S(0))\n",
    "circ.add(H(0))\n",
    "circ.add(S(0))\n",
    "circ.add(H(0))\n",
    "circ.add(S(0))\n",
    "circ.add(H(0))\n",
    "\n",
    "circ.add(Sdg(1))\n",
    "circ.add(H(1))\n",
    "circ.add(Sdg(1))\n",
    "circ.add(CNOT(0, 1))\n",
    "circ.add(S(1))\n",
    "circ.add(H(1))\n",
    "circ.add(S(1))\n",
    "\n",
    "optimise_circuit(circ, p_graphs)"
   ]
  },
  {
   "cell_type": "markdown",
   "metadata": {},
   "source": [
    "# Circuit 6"
   ]
  },
  {
   "cell_type": "code",
   "execution_count": 13,
   "metadata": {},
   "outputs": [
    {
     "name": "stdout",
     "output_type": "stream",
     "text": [
      "Circuit:\n",
      "                                         \n",
      "q_0: ──────────────────────■─────────────\n",
      "     ┌───┐┌───┐┌───┐┌───┐┌─┴─┐┌────┐┌───┐\n",
      "q_1: ┤ H ├┤ S ├┤ H ├┤ S ├┤ X ├┤ S† ├┤ H ├\n",
      "     └───┘└───┘└───┘└───┘└───┘└────┘└───┘\n",
      "Optimised circuit\n",
      "                                \n",
      "q_0: ─────────────■─────────────\n",
      "     ┌────┐┌───┐┌─┴─┐┌────┐┌───┐\n",
      "q_1: ┤ S† ├┤ H ├┤ X ├┤ S† ├┤ H ├\n",
      "     └────┘└───┘└───┘└────┘└───┘\n"
     ]
    },
    {
     "data": {
      "text/plain": [
       "QCircuit([CustomGate(1), H(1), CNOT(0,1), CustomGate(1), H(1)], nb_qubits=2, nb_cbits=None, label=\"None\")"
      ]
     },
     "execution_count": 13,
     "metadata": {},
     "output_type": "execute_result"
    }
   ],
   "source": [
    "circ = QCircuit(2)\n",
    "circ.add(H(1))\n",
    "circ.add(S(1))\n",
    "circ.add(H(1))\n",
    "circ.add(S(1))\n",
    "circ.add(CNOT(0, 1))\n",
    "circ.add(Sdg(1))\n",
    "circ.add(H(1))\n",
    "\n",
    "optimise_circuit(circ, p_graphs)"
   ]
  },
  {
   "cell_type": "markdown",
   "metadata": {},
   "source": [
    "# Circuit 7"
   ]
  },
  {
   "cell_type": "code",
   "execution_count": 14,
   "metadata": {},
   "outputs": [
    {
     "name": "stdout",
     "output_type": "stream",
     "text": [
      "Circuit:\n",
      "                                                                            \n",
      "q_0: ────────────■────■────■────■────■────■────■────■────■────■─────────────\n",
      "     ┌───┐┌───┐┌─┴─┐  │    │    │    │    │    │    │    │  ┌─┴─┐┌────┐┌───┐\n",
      "q_1: ┤ H ├┤ S ├┤ X ├──┼────┼────┼────┼────┼────┼────┼────┼──┤ X ├┤ S† ├┤ H ├\n",
      "     └───┘└───┘└───┘┌─┴─┐  │    │    │    │    │    │  ┌─┴─┐└───┘└────┘└───┘\n",
      "q_2: ───────────────┤ X ├──┼────┼────┼────┼────┼────┼──┤ X ├────────────────\n",
      "                    └───┘┌─┴─┐  │    │    │    │  ┌─┴─┐└───┘                \n",
      "q_3: ────────────────────┤ X ├──┼────┼────┼────┼──┤ X ├─────────────────────\n",
      "                         └───┘┌─┴─┐  │    │  ┌─┴─┐└───┘                     \n",
      "q_4: ─────────────────────────┤ X ├──┼────┼──┤ X ├──────────────────────────\n",
      "                              └───┘┌─┴─┐┌─┴─┐└───┘                          \n",
      "q_5: ──────────────────────────────┤ X ├┤ X ├───────────────────────────────\n",
      "                                   └───┘└───┘                               \n",
      "Optimised circuit\n",
      "                \n",
      "q_0: ───────────\n",
      "     ┌────┐┌───┐\n",
      "q_1: ┤ S† ├┤ S ├\n",
      "     └────┘└───┘\n"
     ]
    },
    {
     "data": {
      "text/plain": [
       "QCircuit([CustomGate(1), S(1)], nb_qubits=2, nb_cbits=None, label=\"None\")"
      ]
     },
     "execution_count": 14,
     "metadata": {},
     "output_type": "execute_result"
    }
   ],
   "source": [
    "circ = QCircuit(6)\n",
    "circ.add(H(1))\n",
    "circ.add(S(1))\n",
    "for i in range(1, 6):\n",
    "    circ.add(CNOT(0, i))\n",
    "for i in range(5, 0, -1):\n",
    "    circ.add(CNOT(0, i))\n",
    "circ.add(Sdg(1))\n",
    "circ.add(H(1))\n",
    "\n",
    "optimise_circuit(circ, p_graphs)"
   ]
  },
  {
   "cell_type": "markdown",
   "metadata": {},
   "source": [
    "# Circuit 8"
   ]
  },
  {
   "cell_type": "code",
   "execution_count": 15,
   "metadata": {},
   "outputs": [
    {
     "name": "stdout",
     "output_type": "stream",
     "text": [
      "Circuit:\n",
      "     ┌───┐┌───┐┌───┐┌───┐┌───┐┌───┐┌───┐┌───┐┌───┐┌───┐┌───┐┌───┐┌────┐┌───┐\n",
      "q_0: ┤ H ├┤ S ├┤ X ├┤ X ├┤ X ├┤ X ├┤ X ├┤ X ├┤ X ├┤ X ├┤ X ├┤ X ├┤ S† ├┤ H ├\n",
      "     └───┘└───┘└─┬─┘└─┬─┘└─┬─┘└─┬─┘└─┬─┘└─┬─┘└─┬─┘└─┬─┘└─┬─┘└─┬─┘└────┘└───┘\n",
      "q_1: ────────────■────┼────┼────┼────┼────┼────┼────┼────┼────■─────────────\n",
      "                      │    │    │    │    │    │    │    │                  \n",
      "q_2: ─────────────────■────┼────┼────┼────┼────┼────┼────■──────────────────\n",
      "                           │    │    │    │    │    │                       \n",
      "q_3: ──────────────────────■────┼────┼────┼────┼────■───────────────────────\n",
      "                                │    │    │    │                            \n",
      "q_4: ───────────────────────────■────┼────┼────■────────────────────────────\n",
      "                                     │    │                                 \n",
      "q_5: ────────────────────────────────■────■─────────────────────────────────\n",
      "                                                                            \n",
      "Optimised circuit\n",
      "   ┌────┐┌───┐\n",
      "q: ┤ S† ├┤ S ├\n",
      "   └────┘└───┘\n"
     ]
    },
    {
     "data": {
      "text/plain": [
       "QCircuit([CustomGate(0), S(0)], nb_qubits=1, nb_cbits=None, label=\"None\")"
      ]
     },
     "execution_count": 15,
     "metadata": {},
     "output_type": "execute_result"
    }
   ],
   "source": [
    "circ = QCircuit(6)\n",
    "circ.add(H(0))\n",
    "circ.add(S(0))\n",
    "for i in range(1, 6):\n",
    "    circ.add(CNOT(i, 0))\n",
    "for i in range(5, 0, -1):\n",
    "    circ.add(CNOT(i, 0))\n",
    "circ.add(Sdg(0))\n",
    "circ.add(H(0))\n",
    "\n",
    "optimise_circuit(circ, p_graphs)"
   ]
  },
  {
   "cell_type": "markdown",
   "metadata": {},
   "source": [
    "# Circuit 9"
   ]
  },
  {
   "cell_type": "code",
   "execution_count": 16,
   "metadata": {},
   "outputs": [
    {
     "name": "stdout",
     "output_type": "stream",
     "text": [
      "Circuit:\n",
      "                               \n",
      "q_0: ────────────■─────────────\n",
      "     ┌───┐┌───┐┌─┴─┐┌───┐┌────┐\n",
      "q_1: ┤ T ├┤ H ├┤ X ├┤ H ├┤ T† ├\n",
      "     └───┘└───┘└───┘└───┘└────┘\n",
      "Optimised circuit\n",
      "                    \n",
      "q_0: ───────■───────\n",
      "     ┌───┐┌─┴─┐┌───┐\n",
      "q_1: ┤ H ├┤ X ├┤ H ├\n",
      "     └───┘└───┘└───┘\n"
     ]
    },
    {
     "name": "stderr",
     "output_type": "stream",
     "text": [
      "/home/michalon/epita/ing3/pfee/pyZX/pfee_colibritd/.venv/lib/python3.10/site-packages/mpqp/core/instruction/gates/gate_definition.py:107: UserWarning: Cannot ensure that a operator defined with variables is unitary.\n",
      "  warn(\"Cannot ensure that a operator defined with variables is unitary.\")\n"
     ]
    },
    {
     "data": {
      "text/plain": [
       "QCircuit([H(1), CNOT(0,1), H(1)], nb_qubits=2, nb_cbits=None, label=\"None\")"
      ]
     },
     "execution_count": 16,
     "metadata": {},
     "output_type": "execute_result"
    }
   ],
   "source": [
    "circ = QCircuit(2)\n",
    "circ.add(T(1))\n",
    "circ.add(H(1))\n",
    "circ.add(CNOT(0, 1))\n",
    "circ.add(H(1))\n",
    "circ.add(Tdg(1))\n",
    "\n",
    "optimise_circuit(circ)"
   ]
  },
  {
   "cell_type": "markdown",
   "metadata": {},
   "source": [
    "# Circuit 10"
   ]
  },
  {
   "cell_type": "code",
   "execution_count": 17,
   "metadata": {},
   "outputs": [
    {
     "name": "stdout",
     "output_type": "stream",
     "text": [
      "Circuit:\n",
      "                               \n",
      "q_0: ───────■─────────■────────\n",
      "     ┌───┐┌─┴─┐┌───┐┌─┴─┐┌────┐\n",
      "q_1: ┤ T ├┤ X ├┤ S ├┤ X ├┤ T† ├\n",
      "     └───┘└───┘└───┘└───┘└────┘\n",
      "Optimised circuit\n",
      "                    \n",
      "q_0: ──■─────────■──\n",
      "     ┌─┴─┐┌───┐┌─┴─┐\n",
      "q_1: ┤ X ├┤ S ├┤ X ├\n",
      "     └───┘└───┘└───┘\n"
     ]
    },
    {
     "data": {
      "text/plain": [
       "QCircuit([CNOT(0,1), S(1), CNOT(0,1)], nb_qubits=2, nb_cbits=None, label=\"None\")"
      ]
     },
     "execution_count": 17,
     "metadata": {},
     "output_type": "execute_result"
    }
   ],
   "source": [
    "circ = QCircuit(2)\n",
    "circ.add(T(1))\n",
    "circ.add(CNOT(0, 1))\n",
    "circ.add(S(1))\n",
    "circ.add(CNOT(0, 1))\n",
    "circ.add(Tdg(1))\n",
    "\n",
    "optimise_circuit(circ)"
   ]
  },
  {
   "cell_type": "markdown",
   "metadata": {},
   "source": [
    "# Circuit 11"
   ]
  },
  {
   "cell_type": "code",
   "execution_count": 18,
   "metadata": {},
   "outputs": [
    {
     "name": "stdout",
     "output_type": "stream",
     "text": [
      "Circuit:\n",
      "     ┌───┐     ┌────┐\n",
      "q_0: ┤ T ├──■──┤ T† ├\n",
      "     └───┘┌─┴─┐└────┘\n",
      "q_1: ─────┤ X ├──────\n",
      "          └───┘      \n",
      "Optimised circuit\n",
      "          \n",
      "q_0: ──■──\n",
      "     ┌─┴─┐\n",
      "q_1: ┤ X ├\n",
      "     └───┘\n"
     ]
    },
    {
     "data": {
      "text/plain": [
       "QCircuit([CNOT(0,1)], nb_qubits=2, nb_cbits=None, label=\"None\")"
      ]
     },
     "execution_count": 18,
     "metadata": {},
     "output_type": "execute_result"
    }
   ],
   "source": [
    "circ = QCircuit(2)\n",
    "circ.add(T(0))\n",
    "circ.add(CNOT(0, 1))\n",
    "circ.add(Tdg(0))\n",
    "\n",
    "optimise_circuit(circ)"
   ]
  },
  {
   "cell_type": "markdown",
   "metadata": {},
   "source": [
    "# Circuit 12"
   ]
  },
  {
   "cell_type": "code",
   "execution_count": 19,
   "metadata": {},
   "outputs": [
    {
     "name": "stdout",
     "output_type": "stream",
     "text": [
      "Circuit:\n",
      "                                                             \n",
      "q_0: ────────────■─────────■─────────■─────────■─────────────\n",
      "     ┌───┐┌───┐┌─┴─┐┌───┐┌─┴─┐┌───┐┌─┴─┐┌───┐┌─┴─┐┌───┐┌────┐\n",
      "q_1: ┤ T ├┤ H ├┤ X ├┤ H ├┤ X ├┤ S ├┤ X ├┤ H ├┤ X ├┤ H ├┤ T† ├\n",
      "     └───┘└───┘└───┘└───┘└───┘└───┘└───┘└───┘└───┘└───┘└────┘\n",
      "q_2: ────────────────────────────────────────────────────────\n",
      "                                                             \n",
      "Optimised circuit\n",
      "                                                  \n",
      "q_0: ───────■─────────■─────────■─────────■───────\n",
      "     ┌───┐┌─┴─┐┌───┐┌─┴─┐┌───┐┌─┴─┐┌───┐┌─┴─┐┌───┐\n",
      "q_1: ┤ H ├┤ X ├┤ H ├┤ X ├┤ S ├┤ X ├┤ H ├┤ X ├┤ H ├\n",
      "     └───┘└───┘└───┘└───┘└───┘└───┘└───┘└───┘└───┘\n"
     ]
    },
    {
     "data": {
      "text/plain": [
       "QCircuit([H(1), CNOT(0,1), H(1), CNOT(0,1), S(1), CNOT(0,1), H(1), CNOT(0,1), H(1)], nb_qubits=2, nb_cbits=None, label=\"None\")"
      ]
     },
     "execution_count": 19,
     "metadata": {},
     "output_type": "execute_result"
    }
   ],
   "source": [
    "circ = QCircuit(3)\n",
    "\n",
    "circ.add(T(1))\n",
    "\n",
    "# Mixture of first, second and third patterns\n",
    "circ.add(H(1))\n",
    "circ.add(CNOT(0, 1))\n",
    "circ.add(H(1))\n",
    "\n",
    "circ.add(CNOT(0, 1))\n",
    "circ.add(S(1))\n",
    "circ.add(CNOT(0, 1))\n",
    "\n",
    "circ.add(H(1))\n",
    "circ.add(CNOT(0, 1))\n",
    "circ.add(H(1))\n",
    "\n",
    "#circ.add(CNOT(1, 2))\n",
    "#circ.add(CNOT(1, 2))\n",
    "\n",
    "circ.add(Tdg(1))\n",
    "\n",
    "optimise_circuit(circ)"
   ]
  },
  {
   "cell_type": "markdown",
   "metadata": {},
   "source": [
    "# Circuit 13"
   ]
  },
  {
   "cell_type": "code",
   "execution_count": 20,
   "metadata": {},
   "outputs": [
    {
     "name": "stdout",
     "output_type": "stream",
     "text": [
      "Circuit:\n",
      "                    \n",
      "q_0: ──■─────────■──\n",
      "       │         │  \n",
      "q_1: ──┼────■────┼──\n",
      "     ┌─┴─┐┌─┴─┐┌─┴─┐\n",
      "q_2: ┤ X ├┤ X ├┤ X ├\n",
      "     └───┘└───┘└───┘\n",
      "Optimised circuit\n",
      "          \n",
      "q_0: ─────\n",
      "          \n",
      "q_1: ──■──\n",
      "     ┌─┴─┐\n",
      "q_2: ┤ X ├\n",
      "     └───┘\n"
     ]
    },
    {
     "data": {
      "text/plain": [
       "QCircuit([CNOT(1,2)], nb_qubits=3, nb_cbits=None, label=\"None\")"
      ]
     },
     "execution_count": 20,
     "metadata": {},
     "output_type": "execute_result"
    }
   ],
   "source": [
    "circ = QCircuit(3)\n",
    "circ.add(CNOT(0, 2))\n",
    "circ.add(CNOT(1, 2))\n",
    "circ.add(CNOT(0, 2))\n",
    "\n",
    "optimise_circuit(circ)"
   ]
  },
  {
   "cell_type": "markdown",
   "metadata": {},
   "source": [
    "# Circuit 14"
   ]
  },
  {
   "cell_type": "code",
   "execution_count": 21,
   "metadata": {},
   "outputs": [
    {
     "name": "stdout",
     "output_type": "stream",
     "text": [
      "Circuit:\n",
      "                    \n",
      "q_0: ──■────■────■──\n",
      "       │  ┌─┴─┐  │  \n",
      "q_1: ──┼──┤ X ├──┼──\n",
      "     ┌─┴─┐└───┘┌─┴─┐\n",
      "q_2: ┤ X ├─────┤ X ├\n",
      "     └───┘     └───┘\n",
      "Optimised circuit\n",
      "          \n",
      "q_0: ──■──\n",
      "     ┌─┴─┐\n",
      "q_1: ┤ X ├\n",
      "     └───┘\n"
     ]
    },
    {
     "data": {
      "text/plain": [
       "QCircuit([CNOT(0,1)], nb_qubits=2, nb_cbits=None, label=\"None\")"
      ]
     },
     "execution_count": 21,
     "metadata": {},
     "output_type": "execute_result"
    }
   ],
   "source": [
    "circ = QCircuit(3)\n",
    "circ.add(CNOT(0, 2))\n",
    "circ.add(CNOT(0, 1))\n",
    "circ.add(CNOT(0, 2))\n",
    "\n",
    "optimise_circuit(circ)"
   ]
  },
  {
   "cell_type": "markdown",
   "metadata": {},
   "source": [
    "# Circuit 15"
   ]
  },
  {
   "cell_type": "code",
   "execution_count": 22,
   "metadata": {},
   "outputs": [
    {
     "name": "stdout",
     "output_type": "stream",
     "text": [
      "Circuit:\n",
      "                              \n",
      "q_0: ──■───────────────────■──\n",
      "     ┌─┴─┐┌───┐     ┌───┐┌─┴─┐\n",
      "q_1: ┤ X ├┤ H ├──■──┤ H ├┤ X ├\n",
      "     └───┘└───┘┌─┴─┐└───┘└───┘\n",
      "q_2: ──────────┤ X ├──────────\n",
      "               └───┘          \n",
      "Optimised circuit\n",
      "                    \n",
      "q_0: ───────────────\n",
      "     ┌───┐     ┌───┐\n",
      "q_1: ┤ H ├──■──┤ H ├\n",
      "     └───┘┌─┴─┐└───┘\n",
      "q_2: ─────┤ X ├─────\n",
      "          └───┘     \n"
     ]
    },
    {
     "data": {
      "text/plain": [
       "QCircuit([H(1), CNOT(1,2), H(1)], nb_qubits=3, nb_cbits=None, label=\"None\")"
      ]
     },
     "execution_count": 22,
     "metadata": {},
     "output_type": "execute_result"
    }
   ],
   "source": [
    "circ = QCircuit(3)\n",
    "\n",
    "circ.add(CNOT(0, 1))\n",
    "circ.add(H(1))\n",
    "circ.add(CNOT(1, 2))\n",
    "circ.add(H(1))\n",
    "circ.add(CNOT(0, 1))\n",
    "\n",
    "optimise_circuit(circ)"
   ]
  },
  {
   "cell_type": "markdown",
   "metadata": {},
   "source": [
    "# Circuit 16"
   ]
  },
  {
   "cell_type": "code",
   "execution_count": 23,
   "metadata": {},
   "outputs": [
    {
     "name": "stdout",
     "output_type": "stream",
     "text": [
      "Circuit:\n",
      "                                   \n",
      "q_0: ──■─────────■──────────────■──\n",
      "       │       ┌─┴─┐            │  \n",
      "q_1: ──┼────■──┤ X ├────────────┼──\n",
      "     ┌─┴─┐┌─┴─┐├───┤     ┌───┐┌─┴─┐\n",
      "q_2: ┤ X ├┤ X ├┤ H ├──■──┤ H ├┤ X ├\n",
      "     └───┘└───┘└───┘┌─┴─┐└───┘└───┘\n",
      "q_3: ───────────────┤ X ├──────────\n",
      "                    └───┘          \n",
      "Optimised circuit\n",
      "                         \n",
      "q_0: ───────■────────────\n",
      "          ┌─┴─┐          \n",
      "q_1: ──■──┤ X ├──────────\n",
      "     ┌─┴─┐├───┤     ┌───┐\n",
      "q_2: ┤ X ├┤ H ├──■──┤ H ├\n",
      "     └───┘└───┘┌─┴─┐└───┘\n",
      "q_3: ──────────┤ X ├─────\n",
      "               └───┘     \n"
     ]
    },
    {
     "data": {
      "text/plain": [
       "QCircuit([CNOT(1,2), CNOT(0,1), H(2), CNOT(2,3), H(2)], nb_qubits=4, nb_cbits=None, label=\"None\")"
      ]
     },
     "execution_count": 23,
     "metadata": {},
     "output_type": "execute_result"
    }
   ],
   "source": [
    "circ = QCircuit(4)\n",
    "circ.add(CNOT(0, 2))\n",
    "\n",
    "circ.add(CNOT(1, 2))\n",
    "\n",
    "circ.add(CNOT(0, 1))\n",
    "\n",
    "circ.add(H(2))\n",
    "circ.add(CNOT(2, 3))\n",
    "circ.add(H(2))\n",
    "\n",
    "circ.add(CNOT(0, 2))\n",
    "\n",
    "optimise_circuit(circ)"
   ]
  }
 ],
 "metadata": {
  "kernelspec": {
   "display_name": ".venv",
   "language": "python",
   "name": "python3"
  },
  "language_info": {
   "codemirror_mode": {
    "name": "ipython",
    "version": 3
   },
   "file_extension": ".py",
   "mimetype": "text/x-python",
   "name": "python",
   "nbconvert_exporter": "python",
   "pygments_lexer": "ipython3",
   "version": "3.10.14"
  }
 },
 "nbformat": 4,
 "nbformat_minor": 2
}
