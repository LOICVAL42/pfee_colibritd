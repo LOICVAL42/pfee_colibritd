{
 "cells": [
  {
   "cell_type": "code",
   "execution_count": 1,
   "metadata": {},
   "outputs": [],
   "source": [
    "from src.optimisers.hadamard_gate_reduction import HadamardGateReduction\n",
    "from src.optimisers import SingleQubitGateCancellation\n",
    "from src.optimisers import CNOTGateCancellation\n",
    "from src.converters.netlist_converters import qCircuit_to_netlist, netlist_to_qCircuit\n",
    "from src.converters.graph_converter import create_graph_from_netlist, create_netlist_from_graph\n",
    "from src.utils.graphs import plot_graph\n",
    "from mpqp import QCircuit\n",
    "from mpqp.gates import X, CNOT, Z, H, S, T\n",
    "from mpqp.measures import BasisMeasure, ComputationalBasis, HadamardBasis\n",
    "from mpqp.execution import *"
   ]
  },
  {
   "cell_type": "code",
   "execution_count": 2,
   "metadata": {},
   "outputs": [],
   "source": [
    "def Sdg(qubit):\n",
    "    sdg = S(qubit).inverse()\n",
    "    sdg.label = \"S†\"\n",
    "    return sdg\n",
    "\n",
    "def Tdg(qubit):\n",
    "    tdg = T(qubit).inverse()\n",
    "    tdg.label = \"T†\"\n",
    "    return tdg"
   ]
  },
  {
   "cell_type": "code",
   "execution_count": 3,
   "metadata": {},
   "outputs": [],
   "source": [
    "def optimise_circuit(circ: QCircuit, print_graphs = False, do_h_red=True, do_sg_cancel=True, do_cnot_cancel=True):\n",
    "    print(\"Circuit:\")\n",
    "    print(circ)\n",
    "    netlist = qCircuit_to_netlist(circ)\n",
    "    graph = create_graph_from_netlist(netlist)\n",
    "    if print_graphs:\n",
    "        print(\"First graph\")\n",
    "        plot_graph(graph, node_size=1000)\n",
    "    if do_h_red:\n",
    "        HadamardGateReduction.optimise(graph)\n",
    "    if do_sg_cancel:\n",
    "        SingleQubitGateCancellation.optimise(graph)\n",
    "    if do_cnot_cancel:\n",
    "        CNOTGateCancellation.optimise(graph)\n",
    "    if print_graphs:\n",
    "        print(\"Optimised graph\")\n",
    "        plot_graph(graph, node_size=1000)\n",
    "    opt_circ = netlist_to_qCircuit(create_netlist_from_graph(graph))\n",
    "    print(\"Optimised circuit\")\n",
    "    print(opt_circ)\n",
    "    return opt_circ\n"
   ]
  },
  {
   "cell_type": "code",
   "execution_count": 4,
   "metadata": {},
   "outputs": [],
   "source": [
    "def run_circuit(circ: QCircuit, nbqubits, shots=1000, basis=ComputationalBasis()):\n",
    "    circ.add(BasisMeasure(list(range(nbqubits)), shots=shots, basis=basis))\n",
    "    result = run(circ, IBMDevice.AER_SIMULATOR)\n",
    "    print(result)"
   ]
  },
  {
   "cell_type": "code",
   "execution_count": 5,
   "metadata": {},
   "outputs": [],
   "source": [
    "p_graphs = False"
   ]
  },
  {
   "cell_type": "markdown",
   "metadata": {},
   "source": [
    "# Circuit 1"
   ]
  },
  {
   "cell_type": "code",
   "execution_count": 6,
   "metadata": {},
   "outputs": [
    {
     "name": "stdout",
     "output_type": "stream",
     "text": [
      "Circuit:\n",
      "   ┌───┐┌───┐┌───┐┌───┐┌───┐\n",
      "q: ┤ H ├┤ S ├┤ H ├┤ S ├┤ H ├\n",
      "   └───┘└───┘└───┘└───┘└───┘\n",
      "Optimised circuit\n",
      "   ┌────┐\n",
      "q: ┤ S† ├\n",
      "   └────┘\n"
     ]
    }
   ],
   "source": [
    "circ = QCircuit(1)\n",
    "circ.add(H(0))\n",
    "circ.add(S(0))\n",
    "circ.add(H(0))\n",
    "circ.add(S(0))\n",
    "circ.add(H(0))\n",
    "\n",
    "opt_circ = optimise_circuit(circ, p_graphs)"
   ]
  },
  {
   "cell_type": "code",
   "execution_count": 7,
   "metadata": {},
   "outputs": [
    {
     "name": "stdout",
     "output_type": "stream",
     "text": [
      "Result: None, IBMDevice, AER_SIMULATOR\n",
      " Counts: [1000, 0]\n",
      " Probabilities: [1, 0]\n",
      " Samples:\n",
      "  State: 0, Index: 0, Count: 1000, Probability: 1.0\n",
      " Error: None\n",
      "Result: None, IBMDevice, AER_SIMULATOR\n",
      " Counts: [1000, 0]\n",
      " Probabilities: [1, 0]\n",
      " Samples:\n",
      "  State: 0, Index: 0, Count: 1000, Probability: 1.0\n",
      " Error: None\n"
     ]
    }
   ],
   "source": [
    "# Should be 1\n",
    "run_circuit(circ, 1)\n",
    "run_circuit(opt_circ, 1)"
   ]
  },
  {
   "cell_type": "markdown",
   "metadata": {},
   "source": [
    "# Circuit 2"
   ]
  },
  {
   "cell_type": "code",
   "execution_count": 8,
   "metadata": {},
   "outputs": [
    {
     "name": "stdout",
     "output_type": "stream",
     "text": [
      "Circuit:\n",
      "     ┌───┐     ┌───┐\n",
      "q_0: ┤ H ├──■──┤ H ├\n",
      "     ├───┤┌─┴─┐├───┤\n",
      "q_1: ┤ H ├┤ X ├┤ H ├\n",
      "     └───┘└───┘└───┘\n",
      "Optimised circuit\n",
      "     ┌───┐\n",
      "q_0: ┤ X ├\n",
      "     └─┬─┘\n",
      "q_1: ──■──\n",
      "          \n"
     ]
    },
    {
     "data": {
      "text/plain": [
       "QCircuit([CNOT(1,0)], nb_qubits=2, nb_cbits=None, label=\"None\")"
      ]
     },
     "execution_count": 8,
     "metadata": {},
     "output_type": "execute_result"
    }
   ],
   "source": [
    "circ = QCircuit(2)\n",
    "circ.add(H(0))\n",
    "circ.add(H(1))\n",
    "circ.add(CNOT(0, 1))\n",
    "circ.add(H(1))\n",
    "circ.add(H(0))\n",
    "\n",
    "optimise_circuit(circ, p_graphs)"
   ]
  },
  {
   "cell_type": "markdown",
   "metadata": {},
   "source": [
    "# Circuit 3"
   ]
  },
  {
   "cell_type": "code",
   "execution_count": 9,
   "metadata": {},
   "outputs": [
    {
     "name": "stdout",
     "output_type": "stream",
     "text": [
      "Circuit:\n",
      "                               \n",
      "q_0: ────────────■─────────────\n",
      "     ┌───┐┌───┐┌─┴─┐┌────┐┌───┐\n",
      "q_1: ┤ H ├┤ S ├┤ X ├┤ S† ├┤ H ├\n",
      "     └───┘└───┘└───┘└────┘└───┘\n",
      "Optimised circuit\n",
      "          \n",
      "q_0: ──■──\n",
      "     ┌─┴─┐\n",
      "q_1: ┤ X ├\n",
      "     └───┘\n"
     ]
    },
    {
     "data": {
      "text/plain": [
       "QCircuit([CNOT(0,1)], nb_qubits=2, nb_cbits=None, label=\"None\")"
      ]
     },
     "execution_count": 9,
     "metadata": {},
     "output_type": "execute_result"
    }
   ],
   "source": [
    "circ = QCircuit(2)\n",
    "circ.add(H(1))\n",
    "circ.add(S(1))\n",
    "circ.add(CNOT(0, 1))\n",
    "circ.add(Sdg(1))\n",
    "circ.add(H(1))\n",
    "\n",
    "optimise_circuit(circ, p_graphs)"
   ]
  },
  {
   "cell_type": "markdown",
   "metadata": {},
   "source": [
    "# Circuit 4"
   ]
  },
  {
   "cell_type": "code",
   "execution_count": 10,
   "metadata": {},
   "outputs": [
    {
     "name": "stdout",
     "output_type": "stream",
     "text": [
      "Circuit:\n",
      "                                          \n",
      "q_0: ───────────────────■─────────────────\n",
      "     ┌────┐┌───┐┌────┐┌─┴─┐┌───┐┌───┐┌───┐\n",
      "q_1: ┤ S† ├┤ H ├┤ S† ├┤ X ├┤ S ├┤ H ├┤ S ├\n",
      "     └────┘└───┘└────┘└───┘└───┘└───┘└───┘\n",
      "Optimised circuit\n",
      "          \n",
      "q_0: ──■──\n",
      "     ┌─┴─┐\n",
      "q_1: ┤ X ├\n",
      "     └───┘\n"
     ]
    },
    {
     "data": {
      "text/plain": [
       "QCircuit([CNOT(0,1)], nb_qubits=2, nb_cbits=None, label=\"None\")"
      ]
     },
     "execution_count": 10,
     "metadata": {},
     "output_type": "execute_result"
    }
   ],
   "source": [
    "circ = QCircuit(2)\n",
    "circ.add(Sdg(1))\n",
    "circ.add(H(1))\n",
    "circ.add(Sdg(1))\n",
    "circ.add(CNOT(0, 1))\n",
    "circ.add(S(1))\n",
    "circ.add(H(1))\n",
    "circ.add(S(1))\n",
    "\n",
    "optimise_circuit(circ, p_graphs)"
   ]
  },
  {
   "cell_type": "markdown",
   "metadata": {},
   "source": [
    "# Circuit 5"
   ]
  },
  {
   "cell_type": "code",
   "execution_count": 11,
   "metadata": {},
   "outputs": [
    {
     "name": "stdout",
     "output_type": "stream",
     "text": [
      "Circuit:\n",
      "     ┌───┐ ┌───┐┌───┐ ┌───┐┌───┐┌───┐                    \n",
      "q_0: ┤ S ├─┤ H ├┤ S ├─┤ H ├┤ S ├┤ H ├──■─────────────────\n",
      "     ├───┴┐├───┤├───┴┐└───┘└───┘└───┘┌─┴─┐┌───┐┌───┐┌───┐\n",
      "q_1: ┤ S† ├┤ H ├┤ S† ├───────────────┤ X ├┤ S ├┤ H ├┤ S ├\n",
      "     └────┘└───┘└────┘               └───┘└───┘└───┘└───┘\n",
      "Optimised circuit\n",
      "          \n",
      "q_0: ──■──\n",
      "     ┌─┴─┐\n",
      "q_1: ┤ X ├\n",
      "     └───┘\n"
     ]
    },
    {
     "data": {
      "text/plain": [
       "QCircuit([CNOT(0,1)], nb_qubits=2, nb_cbits=None, label=\"None\")"
      ]
     },
     "execution_count": 11,
     "metadata": {},
     "output_type": "execute_result"
    }
   ],
   "source": [
    "circ = QCircuit(2)\n",
    "circ.add(S(0))\n",
    "circ.add(H(0))\n",
    "circ.add(S(0))\n",
    "circ.add(H(0))\n",
    "circ.add(S(0))\n",
    "circ.add(H(0))\n",
    "\n",
    "circ.add(Sdg(1))\n",
    "circ.add(H(1))\n",
    "circ.add(Sdg(1))\n",
    "circ.add(CNOT(0, 1))\n",
    "circ.add(S(1))\n",
    "circ.add(H(1))\n",
    "circ.add(S(1))\n",
    "\n",
    "optimise_circuit(circ, p_graphs)"
   ]
  },
  {
   "cell_type": "markdown",
   "metadata": {},
   "source": [
    "# Circuit 6"
   ]
  },
  {
   "cell_type": "code",
   "execution_count": 12,
   "metadata": {},
   "outputs": [
    {
     "name": "stdout",
     "output_type": "stream",
     "text": [
      "Circuit:\n",
      "                                         \n",
      "q_0: ──────────────────────■─────────────\n",
      "     ┌───┐┌───┐┌───┐┌───┐┌─┴─┐┌────┐┌───┐\n",
      "q_1: ┤ H ├┤ S ├┤ H ├┤ S ├┤ X ├┤ S† ├┤ H ├\n",
      "     └───┘└───┘└───┘└───┘└───┘└────┘└───┘\n"
     ]
    },
    {
     "ename": "NetworkXError",
     "evalue": "nbunch is not a node or a sequence of nodes.",
     "output_type": "error",
     "traceback": [
      "\u001b[0;31m---------------------------------------------------------------------------\u001b[0m",
      "\u001b[0;31mTypeError\u001b[0m                                 Traceback (most recent call last)",
      "File \u001b[0;32m~/epita/ing3/pfee/pyZX/pfee_colibritd/.venv/lib/python3.10/site-packages/networkx/classes/graph.py:2025\u001b[0m, in \u001b[0;36mGraph.nbunch_iter.<locals>.bunch_iter\u001b[0;34m(nlist, adj)\u001b[0m\n\u001b[1;32m   2024\u001b[0m \u001b[38;5;28;01mtry\u001b[39;00m:\n\u001b[0;32m-> 2025\u001b[0m     \u001b[38;5;28;01mfor\u001b[39;00m n \u001b[38;5;129;01min\u001b[39;00m nlist:\n\u001b[1;32m   2026\u001b[0m         \u001b[38;5;28;01mif\u001b[39;00m n \u001b[38;5;129;01min\u001b[39;00m adj:\n",
      "\u001b[0;31mTypeError\u001b[0m: 'Gate' object is not iterable",
      "\nDuring handling of the above exception, another exception occurred:\n",
      "\u001b[0;31mNetworkXError\u001b[0m                             Traceback (most recent call last)",
      "Cell \u001b[0;32mIn[12], line 10\u001b[0m\n\u001b[1;32m      7\u001b[0m circ\u001b[38;5;241m.\u001b[39madd(Sdg(\u001b[38;5;241m1\u001b[39m))\n\u001b[1;32m      8\u001b[0m circ\u001b[38;5;241m.\u001b[39madd(H(\u001b[38;5;241m1\u001b[39m))\n\u001b[0;32m---> 10\u001b[0m \u001b[43moptimise_circuit\u001b[49m\u001b[43m(\u001b[49m\u001b[43mcirc\u001b[49m\u001b[43m,\u001b[49m\u001b[43m \u001b[49m\u001b[43mp_graphs\u001b[49m\u001b[43m)\u001b[49m\n",
      "Cell \u001b[0;32mIn[3], line 12\u001b[0m, in \u001b[0;36moptimise_circuit\u001b[0;34m(circ, print_graphs, do_h_red, do_sg_cancel, do_cnot_cancel)\u001b[0m\n\u001b[1;32m     10\u001b[0m     HadamardGateReduction\u001b[38;5;241m.\u001b[39moptimise(graph)\n\u001b[1;32m     11\u001b[0m \u001b[38;5;28;01mif\u001b[39;00m do_sg_cancel:\n\u001b[0;32m---> 12\u001b[0m     \u001b[43mSingleQubitGateCancellation\u001b[49m\u001b[38;5;241;43m.\u001b[39;49m\u001b[43moptimise\u001b[49m\u001b[43m(\u001b[49m\u001b[43mgraph\u001b[49m\u001b[43m)\u001b[49m\n\u001b[1;32m     13\u001b[0m \u001b[38;5;28;01mif\u001b[39;00m do_cnot_cancel:\n\u001b[1;32m     14\u001b[0m     CNOTGateCancellation\u001b[38;5;241m.\u001b[39moptimise(graph)\n",
      "File \u001b[0;32m~/epita/ing3/pfee/pyZX/pfee_colibritd/src/optimisers/gate_cancellation/gate_cancellation.py:37\u001b[0m, in \u001b[0;36mGateCancellationABC.optimise\u001b[0;34m(cls, graph)\u001b[0m\n\u001b[1;32m     34\u001b[0m     \u001b[38;5;28;01mif\u001b[39;00m \u001b[38;5;28mcls\u001b[39m\u001b[38;5;241m.\u001b[39mverify_count(count) \u001b[38;5;129;01mand\u001b[39;00m to_cancel:\n\u001b[1;32m     35\u001b[0m         gates_to_cancel\u001b[38;5;241m.\u001b[39mappend((\u001b[38;5;241m*\u001b[39medge, \u001b[38;5;28;01mTrue\u001b[39;00m))\n\u001b[0;32m---> 37\u001b[0m \u001b[38;5;28;43mcls\u001b[39;49m\u001b[38;5;241;43m.\u001b[39;49m\u001b[43msimplify_gates\u001b[49m\u001b[43m(\u001b[49m\u001b[43mgraph\u001b[49m\u001b[43m,\u001b[49m\u001b[43m \u001b[49m\u001b[43mgates_to_cancel\u001b[49m\u001b[43m)\u001b[49m\n",
      "File \u001b[0;32m~/epita/ing3/pfee/pyZX/pfee_colibritd/src/optimisers/gate_cancellation/gate_cancellation.py:66\u001b[0m, in \u001b[0;36mGateCancellationABC.simplify_gates\u001b[0;34m(graph, gates_to_cancel)\u001b[0m\n\u001b[1;32m     64\u001b[0m \u001b[38;5;28;01mif\u001b[39;00m is_adjacent:\n\u001b[1;32m     65\u001b[0m     left_nodes \u001b[38;5;241m=\u001b[39m ugraph\u001b[38;5;241m.\u001b[39mget_previous_nodes(graph, left)\n\u001b[0;32m---> 66\u001b[0m     right_nodes \u001b[38;5;241m=\u001b[39m \u001b[43mugraph\u001b[49m\u001b[38;5;241;43m.\u001b[39;49m\u001b[43mget_next_nodes\u001b[49m\u001b[43m(\u001b[49m\u001b[43mgraph\u001b[49m\u001b[43m,\u001b[49m\u001b[43m \u001b[49m\u001b[43mright\u001b[49m\u001b[43m)\u001b[49m\n\u001b[1;32m     67\u001b[0m     graph\u001b[38;5;241m.\u001b[39mremove_nodes_from([left, right])\n\u001b[1;32m     68\u001b[0m     \u001b[38;5;28;01mfor\u001b[39;00m l \u001b[38;5;129;01min\u001b[39;00m left_nodes:\n",
      "File \u001b[0;32m~/epita/ing3/pfee/pyZX/pfee_colibritd/src/utils/graphs.py:19\u001b[0m, in \u001b[0;36mget_next_nodes\u001b[0;34m(graph, node)\u001b[0m\n\u001b[1;32m     17\u001b[0m \u001b[38;5;28;01mdef\u001b[39;00m \u001b[38;5;21mget_next_nodes\u001b[39m(graph: nx\u001b[38;5;241m.\u001b[39mDiGraph, node):\n\u001b[1;32m     18\u001b[0m     right_nodes \u001b[38;5;241m=\u001b[39m []\n\u001b[0;32m---> 19\u001b[0m     \u001b[38;5;28;01mfor\u001b[39;00m edge \u001b[38;5;129;01min\u001b[39;00m \u001b[43mgraph\u001b[49m\u001b[38;5;241;43m.\u001b[39;49m\u001b[43mout_edges\u001b[49m\u001b[43m(\u001b[49m\u001b[43mnode\u001b[49m\u001b[43m)\u001b[49m:\n\u001b[1;32m     20\u001b[0m         right_nodes\u001b[38;5;241m.\u001b[39mappend(edge[\u001b[38;5;241m1\u001b[39m])\n\u001b[1;32m     21\u001b[0m     \u001b[38;5;28;01mreturn\u001b[39;00m right_nodes\n",
      "File \u001b[0;32m~/epita/ing3/pfee/pyZX/pfee_colibritd/.venv/lib/python3.10/site-packages/networkx/classes/reportviews.py:1096\u001b[0m, in \u001b[0;36mOutEdgeView.__call__\u001b[0;34m(self, nbunch, data, default)\u001b[0m\n\u001b[1;32m   1094\u001b[0m \u001b[38;5;28;01mif\u001b[39;00m nbunch \u001b[38;5;129;01mis\u001b[39;00m \u001b[38;5;28;01mNone\u001b[39;00m \u001b[38;5;129;01mand\u001b[39;00m data \u001b[38;5;129;01mis\u001b[39;00m \u001b[38;5;28;01mFalse\u001b[39;00m:\n\u001b[1;32m   1095\u001b[0m     \u001b[38;5;28;01mreturn\u001b[39;00m \u001b[38;5;28mself\u001b[39m\n\u001b[0;32m-> 1096\u001b[0m \u001b[38;5;28;01mreturn\u001b[39;00m \u001b[38;5;28;43mself\u001b[39;49m\u001b[38;5;241;43m.\u001b[39;49m\u001b[43mdataview\u001b[49m\u001b[43m(\u001b[49m\u001b[38;5;28;43mself\u001b[39;49m\u001b[43m,\u001b[49m\u001b[43m \u001b[49m\u001b[43mnbunch\u001b[49m\u001b[43m,\u001b[49m\u001b[43m \u001b[49m\u001b[43mdata\u001b[49m\u001b[43m,\u001b[49m\u001b[43m \u001b[49m\u001b[43mdefault\u001b[49m\u001b[38;5;241;43m=\u001b[39;49m\u001b[43mdefault\u001b[49m\u001b[43m)\u001b[49m\n",
      "File \u001b[0;32m~/epita/ing3/pfee/pyZX/pfee_colibritd/.venv/lib/python3.10/site-packages/networkx/classes/reportviews.py:769\u001b[0m, in \u001b[0;36mOutEdgeDataView.__init__\u001b[0;34m(self, viewer, nbunch, data, default)\u001b[0m\n\u001b[1;32m    766\u001b[0m     \u001b[38;5;28mself\u001b[39m\u001b[38;5;241m.\u001b[39m_nodes_nbrs \u001b[38;5;241m=\u001b[39m adjdict\u001b[38;5;241m.\u001b[39mitems\n\u001b[1;32m    767\u001b[0m \u001b[38;5;28;01melse\u001b[39;00m:\n\u001b[1;32m    768\u001b[0m     \u001b[38;5;66;03m# dict retains order of nodes but acts like a set\u001b[39;00m\n\u001b[0;32m--> 769\u001b[0m     nbunch \u001b[38;5;241m=\u001b[39m \u001b[38;5;28;43mdict\u001b[39;49m\u001b[38;5;241;43m.\u001b[39;49m\u001b[43mfromkeys\u001b[49m\u001b[43m(\u001b[49m\u001b[43mviewer\u001b[49m\u001b[38;5;241;43m.\u001b[39;49m\u001b[43m_graph\u001b[49m\u001b[38;5;241;43m.\u001b[39;49m\u001b[43mnbunch_iter\u001b[49m\u001b[43m(\u001b[49m\u001b[43mnbunch\u001b[49m\u001b[43m)\u001b[49m\u001b[43m)\u001b[49m\n\u001b[1;32m    770\u001b[0m     \u001b[38;5;28mself\u001b[39m\u001b[38;5;241m.\u001b[39m_nodes_nbrs \u001b[38;5;241m=\u001b[39m \u001b[38;5;28;01mlambda\u001b[39;00m: [(n, adjdict[n]) \u001b[38;5;28;01mfor\u001b[39;00m n \u001b[38;5;129;01min\u001b[39;00m nbunch]\n\u001b[1;32m    771\u001b[0m \u001b[38;5;28mself\u001b[39m\u001b[38;5;241m.\u001b[39m_nbunch \u001b[38;5;241m=\u001b[39m nbunch\n",
      "File \u001b[0;32m~/epita/ing3/pfee/pyZX/pfee_colibritd/.venv/lib/python3.10/site-packages/networkx/classes/graph.py:2040\u001b[0m, in \u001b[0;36mGraph.nbunch_iter.<locals>.bunch_iter\u001b[0;34m(nlist, adj)\u001b[0m\n\u001b[1;32m   2036\u001b[0m \u001b[38;5;28;01mif\u001b[39;00m \u001b[38;5;124m\"\u001b[39m\u001b[38;5;124mhashable\u001b[39m\u001b[38;5;124m\"\u001b[39m \u001b[38;5;129;01min\u001b[39;00m message:\n\u001b[1;32m   2037\u001b[0m     exc \u001b[38;5;241m=\u001b[39m NetworkXError(\n\u001b[1;32m   2038\u001b[0m         \u001b[38;5;124mf\u001b[39m\u001b[38;5;124m\"\u001b[39m\u001b[38;5;124mNode \u001b[39m\u001b[38;5;132;01m{\u001b[39;00mn\u001b[38;5;132;01m}\u001b[39;00m\u001b[38;5;124m in sequence nbunch is not a valid node.\u001b[39m\u001b[38;5;124m\"\u001b[39m\n\u001b[1;32m   2039\u001b[0m     )\n\u001b[0;32m-> 2040\u001b[0m \u001b[38;5;28;01mraise\u001b[39;00m exc\n",
      "\u001b[0;31mNetworkXError\u001b[0m: nbunch is not a node or a sequence of nodes."
     ]
    }
   ],
   "source": [
    "circ = QCircuit(2)\n",
    "circ.add(H(1))\n",
    "circ.add(S(1))\n",
    "circ.add(H(1))\n",
    "circ.add(S(1))\n",
    "circ.add(CNOT(0, 1))\n",
    "circ.add(Sdg(1))\n",
    "circ.add(H(1))\n",
    "\n",
    "optimise_circuit(circ, p_graphs)"
   ]
  },
  {
   "cell_type": "markdown",
   "metadata": {},
   "source": [
    "# Circuit 7"
   ]
  },
  {
   "cell_type": "code",
   "execution_count": 12,
   "metadata": {},
   "outputs": [
    {
     "name": "stdout",
     "output_type": "stream",
     "text": [
      "Circuit:\n",
      "                                                                            \n",
      "q_0: ────────────■────■────■────■────■────■────■────■────■────■─────────────\n",
      "     ┌───┐┌───┐┌─┴─┐  │    │    │    │    │    │    │    │  ┌─┴─┐┌────┐┌───┐\n",
      "q_1: ┤ H ├┤ S ├┤ X ├──┼────┼────┼────┼────┼────┼────┼────┼──┤ X ├┤ S† ├┤ H ├\n",
      "     └───┘└───┘└───┘┌─┴─┐  │    │    │    │    │    │  ┌─┴─┐└───┘└────┘└───┘\n",
      "q_2: ───────────────┤ X ├──┼────┼────┼────┼────┼────┼──┤ X ├────────────────\n",
      "                    └───┘┌─┴─┐  │    │    │    │  ┌─┴─┐└───┘                \n",
      "q_3: ────────────────────┤ X ├──┼────┼────┼────┼──┤ X ├─────────────────────\n",
      "                         └───┘┌─┴─┐  │    │  ┌─┴─┐└───┘                     \n",
      "q_4: ─────────────────────────┤ X ├──┼────┼──┤ X ├──────────────────────────\n",
      "                              └───┘┌─┴─┐┌─┴─┐└───┘                          \n",
      "q_5: ──────────────────────────────┤ X ├┤ X ├───────────────────────────────\n",
      "                                   └───┘└───┘                               \n",
      "Optimised circuit\n",
      "                \n",
      "q_0: ───────────\n",
      "     ┌────┐┌───┐\n",
      "q_1: ┤ S† ├┤ S ├\n",
      "     └────┘└───┘\n"
     ]
    },
    {
     "data": {
      "text/plain": [
       "QCircuit([CustomGate(1), S(1)], nb_qubits=2, nb_cbits=None, label=\"None\")"
      ]
     },
     "execution_count": 12,
     "metadata": {},
     "output_type": "execute_result"
    }
   ],
   "source": [
    "circ = QCircuit(6)\n",
    "circ.add(H(1))\n",
    "circ.add(S(1))\n",
    "for i in range(1, 6):\n",
    "    circ.add(CNOT(0, i))\n",
    "for i in range(5, 0, -1):\n",
    "    circ.add(CNOT(0, i))\n",
    "circ.add(Sdg(1))\n",
    "circ.add(H(1))\n",
    "\n",
    "optimise_circuit(circ, p_graphs)"
   ]
  },
  {
   "cell_type": "markdown",
   "metadata": {},
   "source": [
    "# Circuit 8"
   ]
  },
  {
   "cell_type": "code",
   "execution_count": 13,
   "metadata": {},
   "outputs": [
    {
     "name": "stdout",
     "output_type": "stream",
     "text": [
      "Circuit:\n",
      "     ┌───┐┌───┐┌───┐┌───┐┌───┐┌───┐┌───┐┌───┐┌───┐┌───┐┌───┐┌───┐┌────┐┌───┐\n",
      "q_0: ┤ H ├┤ S ├┤ X ├┤ X ├┤ X ├┤ X ├┤ X ├┤ X ├┤ X ├┤ X ├┤ X ├┤ X ├┤ S† ├┤ H ├\n",
      "     └───┘└───┘└─┬─┘└─┬─┘└─┬─┘└─┬─┘└─┬─┘└─┬─┘└─┬─┘└─┬─┘└─┬─┘└─┬─┘└────┘└───┘\n",
      "q_1: ────────────■────┼────┼────┼────┼────┼────┼────┼────┼────■─────────────\n",
      "                      │    │    │    │    │    │    │    │                  \n",
      "q_2: ─────────────────■────┼────┼────┼────┼────┼────┼────■──────────────────\n",
      "                           │    │    │    │    │    │                       \n",
      "q_3: ──────────────────────■────┼────┼────┼────┼────■───────────────────────\n",
      "                                │    │    │    │                            \n",
      "q_4: ───────────────────────────■────┼────┼────■────────────────────────────\n",
      "                                     │    │                                 \n",
      "q_5: ────────────────────────────────■────■─────────────────────────────────\n",
      "                                                                            \n",
      "Optimised circuit\n",
      "   ┌────┐┌───┐\n",
      "q: ┤ S† ├┤ S ├\n",
      "   └────┘└───┘\n"
     ]
    },
    {
     "data": {
      "text/plain": [
       "QCircuit([CustomGate(0), S(0)], nb_qubits=1, nb_cbits=None, label=\"None\")"
      ]
     },
     "execution_count": 13,
     "metadata": {},
     "output_type": "execute_result"
    }
   ],
   "source": [
    "circ = QCircuit(6)\n",
    "circ.add(H(0))\n",
    "circ.add(S(0))\n",
    "for i in range(1, 6):\n",
    "    circ.add(CNOT(i, 0))\n",
    "for i in range(5, 0, -1):\n",
    "    circ.add(CNOT(i, 0))\n",
    "circ.add(Sdg(0))\n",
    "circ.add(H(0))\n",
    "\n",
    "optimise_circuit(circ, p_graphs)"
   ]
  },
  {
   "cell_type": "markdown",
   "metadata": {},
   "source": [
    "# Circuit 9"
   ]
  },
  {
   "cell_type": "code",
   "execution_count": 14,
   "metadata": {},
   "outputs": [
    {
     "name": "stdout",
     "output_type": "stream",
     "text": [
      "Circuit:\n",
      "                               \n",
      "q_0: ────────────■─────────────\n",
      "     ┌───┐┌───┐┌─┴─┐┌───┐┌────┐\n",
      "q_1: ┤ T ├┤ H ├┤ X ├┤ H ├┤ T† ├\n",
      "     └───┘└───┘└───┘└───┘└────┘\n",
      "Optimised circuit\n",
      "                    \n",
      "q_0: ───────■───────\n",
      "     ┌───┐┌─┴─┐┌───┐\n",
      "q_1: ┤ H ├┤ X ├┤ H ├\n",
      "     └───┘└───┘└───┘\n"
     ]
    },
    {
     "name": "stderr",
     "output_type": "stream",
     "text": [
      "/home/michalon/epita/ing3/pfee/pyZX/pfee_colibritd/.venv/lib/python3.10/site-packages/mpqp/core/instruction/gates/gate_definition.py:107: UserWarning: Cannot ensure that a operator defined with variables is unitary.\n",
      "  warn(\"Cannot ensure that a operator defined with variables is unitary.\")\n"
     ]
    },
    {
     "data": {
      "text/plain": [
       "QCircuit([H(1), CNOT(0,1), H(1)], nb_qubits=2, nb_cbits=None, label=\"None\")"
      ]
     },
     "execution_count": 14,
     "metadata": {},
     "output_type": "execute_result"
    }
   ],
   "source": [
    "circ = QCircuit(2)\n",
    "circ.add(T(1))\n",
    "circ.add(H(1))\n",
    "circ.add(CNOT(0, 1))\n",
    "circ.add(H(1))\n",
    "circ.add(Tdg(1))\n",
    "\n",
    "optimise_circuit(circ)"
   ]
  },
  {
   "cell_type": "markdown",
   "metadata": {},
   "source": [
    "# Circuit 10"
   ]
  },
  {
   "cell_type": "code",
   "execution_count": 15,
   "metadata": {},
   "outputs": [
    {
     "name": "stdout",
     "output_type": "stream",
     "text": [
      "Circuit:\n",
      "                               \n",
      "q_0: ───────■─────────■────────\n",
      "     ┌───┐┌─┴─┐┌───┐┌─┴─┐┌────┐\n",
      "q_1: ┤ T ├┤ X ├┤ S ├┤ X ├┤ T† ├\n",
      "     └───┘└───┘└───┘└───┘└────┘\n",
      "Optimised circuit\n",
      "                    \n",
      "q_0: ──■─────────■──\n",
      "     ┌─┴─┐┌───┐┌─┴─┐\n",
      "q_1: ┤ X ├┤ S ├┤ X ├\n",
      "     └───┘└───┘└───┘\n"
     ]
    },
    {
     "data": {
      "text/plain": [
       "QCircuit([CNOT(0,1), S(1), CNOT(0,1)], nb_qubits=2, nb_cbits=None, label=\"None\")"
      ]
     },
     "execution_count": 15,
     "metadata": {},
     "output_type": "execute_result"
    }
   ],
   "source": [
    "circ = QCircuit(2)\n",
    "circ.add(T(1))\n",
    "circ.add(CNOT(0, 1))\n",
    "circ.add(S(1))\n",
    "circ.add(CNOT(0, 1))\n",
    "circ.add(Tdg(1))\n",
    "\n",
    "optimise_circuit(circ)"
   ]
  },
  {
   "cell_type": "markdown",
   "metadata": {},
   "source": [
    "# Circuit 11"
   ]
  },
  {
   "cell_type": "code",
   "execution_count": 16,
   "metadata": {},
   "outputs": [
    {
     "name": "stdout",
     "output_type": "stream",
     "text": [
      "Circuit:\n",
      "     ┌───┐     ┌────┐\n",
      "q_0: ┤ T ├──■──┤ T† ├\n",
      "     └───┘┌─┴─┐└────┘\n",
      "q_1: ─────┤ X ├──────\n",
      "          └───┘      \n",
      "Optimised circuit\n",
      "          \n",
      "q_0: ──■──\n",
      "     ┌─┴─┐\n",
      "q_1: ┤ X ├\n",
      "     └───┘\n"
     ]
    },
    {
     "data": {
      "text/plain": [
       "QCircuit([CNOT(0,1)], nb_qubits=2, nb_cbits=None, label=\"None\")"
      ]
     },
     "execution_count": 16,
     "metadata": {},
     "output_type": "execute_result"
    }
   ],
   "source": [
    "circ = QCircuit(2)\n",
    "circ.add(T(0))\n",
    "circ.add(CNOT(0, 1))\n",
    "circ.add(Tdg(0))\n",
    "\n",
    "optimise_circuit(circ)"
   ]
  },
  {
   "cell_type": "markdown",
   "metadata": {},
   "source": [
    "# Circuit 12"
   ]
  },
  {
   "cell_type": "code",
   "execution_count": 17,
   "metadata": {},
   "outputs": [
    {
     "name": "stdout",
     "output_type": "stream",
     "text": [
      "Circuit:\n",
      "                                                             \n",
      "q_0: ────────────■─────────■─────────■─────────■─────────────\n",
      "     ┌───┐┌───┐┌─┴─┐┌───┐┌─┴─┐┌───┐┌─┴─┐┌───┐┌─┴─┐┌───┐┌────┐\n",
      "q_1: ┤ T ├┤ H ├┤ X ├┤ H ├┤ X ├┤ S ├┤ X ├┤ H ├┤ X ├┤ H ├┤ T† ├\n",
      "     └───┘└───┘└───┘└───┘└───┘└───┘└───┘└───┘└───┘└───┘└────┘\n",
      "q_2: ────────────────────────────────────────────────────────\n",
      "                                                             \n",
      "Optimised circuit\n",
      "                                                  \n",
      "q_0: ───────■─────────■─────────■─────────■───────\n",
      "     ┌───┐┌─┴─┐┌───┐┌─┴─┐┌───┐┌─┴─┐┌───┐┌─┴─┐┌───┐\n",
      "q_1: ┤ H ├┤ X ├┤ H ├┤ X ├┤ S ├┤ X ├┤ H ├┤ X ├┤ H ├\n",
      "     └───┘└───┘└───┘└───┘└───┘└───┘└───┘└───┘└───┘\n"
     ]
    },
    {
     "data": {
      "text/plain": [
       "QCircuit([H(1), CNOT(0,1), H(1), CNOT(0,1), S(1), CNOT(0,1), H(1), CNOT(0,1), H(1)], nb_qubits=2, nb_cbits=None, label=\"None\")"
      ]
     },
     "execution_count": 17,
     "metadata": {},
     "output_type": "execute_result"
    }
   ],
   "source": [
    "circ = QCircuit(3)\n",
    "\n",
    "circ.add(T(1))\n",
    "\n",
    "# Mixture of first, second and third patterns\n",
    "circ.add(H(1))\n",
    "circ.add(CNOT(0, 1))\n",
    "circ.add(H(1))\n",
    "\n",
    "circ.add(CNOT(0, 1))\n",
    "circ.add(S(1))\n",
    "circ.add(CNOT(0, 1))\n",
    "\n",
    "circ.add(H(1))\n",
    "circ.add(CNOT(0, 1))\n",
    "circ.add(H(1))\n",
    "\n",
    "#circ.add(CNOT(1, 2))\n",
    "#circ.add(CNOT(1, 2))\n",
    "\n",
    "circ.add(Tdg(1))\n",
    "\n",
    "optimise_circuit(circ)"
   ]
  },
  {
   "cell_type": "markdown",
   "metadata": {},
   "source": [
    "# Circuit 13"
   ]
  },
  {
   "cell_type": "code",
   "execution_count": 18,
   "metadata": {},
   "outputs": [
    {
     "name": "stdout",
     "output_type": "stream",
     "text": [
      "Circuit:\n",
      "                    \n",
      "q_0: ──■─────────■──\n",
      "       │         │  \n",
      "q_1: ──┼────■────┼──\n",
      "     ┌─┴─┐┌─┴─┐┌─┴─┐\n",
      "q_2: ┤ X ├┤ X ├┤ X ├\n",
      "     └───┘└───┘└───┘\n",
      "Optimised circuit\n",
      "          \n",
      "q_0: ─────\n",
      "          \n",
      "q_1: ──■──\n",
      "     ┌─┴─┐\n",
      "q_2: ┤ X ├\n",
      "     └───┘\n"
     ]
    },
    {
     "data": {
      "text/plain": [
       "QCircuit([CNOT(1,2)], nb_qubits=3, nb_cbits=None, label=\"None\")"
      ]
     },
     "execution_count": 18,
     "metadata": {},
     "output_type": "execute_result"
    }
   ],
   "source": [
    "circ = QCircuit(3)\n",
    "circ.add(CNOT(0, 2))\n",
    "circ.add(CNOT(1, 2))\n",
    "circ.add(CNOT(0, 2))\n",
    "\n",
    "optimise_circuit(circ)"
   ]
  },
  {
   "cell_type": "markdown",
   "metadata": {},
   "source": [
    "# Circuit 14"
   ]
  },
  {
   "cell_type": "code",
   "execution_count": 19,
   "metadata": {},
   "outputs": [
    {
     "name": "stdout",
     "output_type": "stream",
     "text": [
      "Circuit:\n",
      "                    \n",
      "q_0: ──■────■────■──\n",
      "       │  ┌─┴─┐  │  \n",
      "q_1: ──┼──┤ X ├──┼──\n",
      "     ┌─┴─┐└───┘┌─┴─┐\n",
      "q_2: ┤ X ├─────┤ X ├\n",
      "     └───┘     └───┘\n",
      "Optimised circuit\n",
      "          \n",
      "q_0: ──■──\n",
      "     ┌─┴─┐\n",
      "q_1: ┤ X ├\n",
      "     └───┘\n"
     ]
    },
    {
     "data": {
      "text/plain": [
       "QCircuit([CNOT(0,1)], nb_qubits=2, nb_cbits=None, label=\"None\")"
      ]
     },
     "execution_count": 19,
     "metadata": {},
     "output_type": "execute_result"
    }
   ],
   "source": [
    "circ = QCircuit(3)\n",
    "circ.add(CNOT(0, 2))\n",
    "circ.add(CNOT(0, 1))\n",
    "circ.add(CNOT(0, 2))\n",
    "\n",
    "optimise_circuit(circ)"
   ]
  },
  {
   "cell_type": "markdown",
   "metadata": {},
   "source": [
    "# Circuit 15"
   ]
  },
  {
   "cell_type": "code",
   "execution_count": 20,
   "metadata": {},
   "outputs": [
    {
     "name": "stdout",
     "output_type": "stream",
     "text": [
      "Circuit:\n",
      "                              \n",
      "q_0: ──■───────────────────■──\n",
      "     ┌─┴─┐┌───┐     ┌───┐┌─┴─┐\n",
      "q_1: ┤ X ├┤ H ├──■──┤ H ├┤ X ├\n",
      "     └───┘└───┘┌─┴─┐└───┘└───┘\n",
      "q_2: ──────────┤ X ├──────────\n",
      "               └───┘          \n",
      "Optimised circuit\n",
      "                    \n",
      "q_0: ───────────────\n",
      "     ┌───┐     ┌───┐\n",
      "q_1: ┤ H ├──■──┤ H ├\n",
      "     └───┘┌─┴─┐└───┘\n",
      "q_2: ─────┤ X ├─────\n",
      "          └───┘     \n"
     ]
    },
    {
     "data": {
      "text/plain": [
       "QCircuit([H(1), CNOT(1,2), H(1)], nb_qubits=3, nb_cbits=None, label=\"None\")"
      ]
     },
     "execution_count": 20,
     "metadata": {},
     "output_type": "execute_result"
    }
   ],
   "source": [
    "circ = QCircuit(3)\n",
    "\n",
    "circ.add(CNOT(0, 1))\n",
    "circ.add(H(1))\n",
    "circ.add(CNOT(1, 2))\n",
    "circ.add(H(1))\n",
    "circ.add(CNOT(0, 1))\n",
    "\n",
    "optimise_circuit(circ)"
   ]
  },
  {
   "cell_type": "markdown",
   "metadata": {},
   "source": [
    "# Circuit 16"
   ]
  },
  {
   "cell_type": "code",
   "execution_count": 21,
   "metadata": {},
   "outputs": [
    {
     "name": "stdout",
     "output_type": "stream",
     "text": [
      "Circuit:\n",
      "                                   \n",
      "q_0: ──■─────────■──────────────■──\n",
      "       │       ┌─┴─┐            │  \n",
      "q_1: ──┼────■──┤ X ├────────────┼──\n",
      "     ┌─┴─┐┌─┴─┐├───┤     ┌───┐┌─┴─┐\n",
      "q_2: ┤ X ├┤ X ├┤ H ├──■──┤ H ├┤ X ├\n",
      "     └───┘└───┘└───┘┌─┴─┐└───┘└───┘\n",
      "q_3: ───────────────┤ X ├──────────\n",
      "                    └───┘          \n",
      "Optimised circuit\n",
      "                         \n",
      "q_0: ───────■────────────\n",
      "          ┌─┴─┐          \n",
      "q_1: ──■──┤ X ├──────────\n",
      "     ┌─┴─┐├───┤     ┌───┐\n",
      "q_2: ┤ X ├┤ H ├──■──┤ H ├\n",
      "     └───┘└───┘┌─┴─┐└───┘\n",
      "q_3: ──────────┤ X ├─────\n",
      "               └───┘     \n"
     ]
    },
    {
     "data": {
      "text/plain": [
       "QCircuit([CNOT(1,2), CNOT(0,1), H(2), CNOT(2,3), H(2)], nb_qubits=4, nb_cbits=None, label=\"None\")"
      ]
     },
     "execution_count": 21,
     "metadata": {},
     "output_type": "execute_result"
    }
   ],
   "source": [
    "circ = QCircuit(4)\n",
    "circ.add(CNOT(0, 2))\n",
    "\n",
    "circ.add(CNOT(1, 2))\n",
    "\n",
    "circ.add(CNOT(0, 1))\n",
    "\n",
    "circ.add(H(2))\n",
    "circ.add(CNOT(2, 3))\n",
    "circ.add(H(2))\n",
    "\n",
    "circ.add(CNOT(0, 2))\n",
    "\n",
    "optimise_circuit(circ)"
   ]
  }
 ],
 "metadata": {
  "kernelspec": {
   "display_name": ".venv",
   "language": "python",
   "name": "python3"
  },
  "language_info": {
   "codemirror_mode": {
    "name": "ipython",
    "version": 3
   },
   "file_extension": ".py",
   "mimetype": "text/x-python",
   "name": "python",
   "nbconvert_exporter": "python",
   "pygments_lexer": "ipython3",
   "version": "3.10.14"
  }
 },
 "nbformat": 4,
 "nbformat_minor": 2
}
